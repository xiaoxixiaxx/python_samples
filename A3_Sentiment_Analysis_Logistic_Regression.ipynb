{
    "metadata": {
        "kernelspec": {
            "name": "python3",
            "display_name": "Python 3",
            "language": "python"
        }
    },
    "nbformat": 4,
    "nbformat_minor": 0,
    "cells": [
        {
            "attachments": {},
            "cell_type": "markdown",
            "metadata": {},
            "source": [
                "# Predicting sentiment from product reviews\n",
                "\n",
                "### Due: Tuesday, April 20, at 9:00 pm. The coding portion will be submitted on EdStem and the concept portion on Gradescope.\n",
                "\n",
                "The goal of this first notebook is to explore logistic regression and feature engineering with sklearn.\n",
                "\n",
                "In this notebook you will use product review data from Amazon.com to predict whether the sentiments about a product (from its reviews) are positive or negative.\n",
                "\n",
                "* Use Pandas Dataframes to do feature engineering\n",
                "* Train a logistic regression model to predict the sentiment of product reviews.\n",
                "* Inspect the weights (coefficients) of a trained logistic regression model.\n",
                "* Make a prediction (both class and probability) of sentiment for a new product review.\n",
                "* Given a classifier, create a confusion matrix\n",
                "* Compare multiple logistic regression models.\n",
                "\n",
                "Copyright ©2021 Emily Fox, Hunter Schafer, Valentina Staneva.  All rights reserved.  Permission is hereby granted to students registered for University of Washington CSE/STAT 416 for use solely during Spring Quarter 2021 for purposes of the course.  No other use, copying, distribution, or modification is permitted without prior written consent. Copyrights for third-party components of this work must be honored.  Instructors interested in reusing these course materials should contact the author.\n",
                ""
            ]
        },
        {
            "cell_type": "code",
            "execution_count": 53,
            "metadata": {},
            "outputs": [],
            "source": [
                "import math\n",
                "import string\n",
                "\n",
                "import matplotlib.pyplot as plt\n",
                "import numpy as np\n",
                "import pandas as pd\n",
                "import seaborn as sns\n",
                "\n",
                "from sklearn.linear_model import LogisticRegression\n",
                "from sklearn.metrics import accuracy_score\n",
                "from sklearn.model_selection import train_test_split\n",
                "from sklearn.feature_extraction.text import CountVectorizer\n",
                "from sklearn.feature_extraction import DictVectorizer\n",
                "\n",
                "sns.set()\n",
                "%matplotlib inline\n",
                ""
            ]
        },
        {
            "attachments": {},
            "cell_type": "markdown",
            "metadata": {},
            "source": [
                "# Data preparation\n",
                "\n",
                "We will use a dataset consisting of food product reviews on Amazon.com [source](http://jmcauley.ucsd.edu/data/amazon/)."
            ]
        },
        {
            "cell_type": "code",
            "execution_count": 54,
            "metadata": {},
            "outputs": [
                {
                    "data": {
                        "text/html": "\u003cdiv\u003e\n\u003cstyle scoped\u003e\n    .dataframe tbody tr th:only-of-type {\n        vertical-align: middle;\n    }\n\n    .dataframe tbody tr th {\n        vertical-align: top;\n    }\n\n    .dataframe thead th {\n        text-align: right;\n    }\n\u003c/style\u003e\n\u003ctable border=\"1\" class=\"dataframe\"\u003e\n  \u003cthead\u003e\n    \u003ctr style=\"text-align: right;\"\u003e\n      \u003cth\u003e\u003c/th\u003e\n      \u003cth\u003eproduct_id\u003c/th\u003e\n      \u003cth\u003esummary\u003c/th\u003e\n      \u003cth\u003ereview\u003c/th\u003e\n      \u003cth\u003erating\u003c/th\u003e\n    \u003c/tr\u003e\n  \u003c/thead\u003e\n  \u003ctbody\u003e\n    \u003ctr\u003e\n      \u003cth\u003e0\u003c/th\u003e\n      \u003ctd\u003e4408\u003c/td\u003e\n      \u003ctd\u003eDoes increase milk supply\u003c/td\u003e\n      \u003ctd\u003eThis really helped to increase my milk supply....\u003c/td\u003e\n      \u003ctd\u003e3.0\u003c/td\u003e\n    \u003c/tr\u003e\n    \u003ctr\u003e\n      \u003cth\u003e1\u003c/th\u003e\n      \u003ctd\u003e4209\u003c/td\u003e\n      \u003ctd\u003eOne bad packet ruins the product!\u003c/td\u003e\n      \u003ctd\u003eI should have stayed with Idahoan brand. Poor ...\u003c/td\u003e\n      \u003ctd\u003e1.0\u003c/td\u003e\n    \u003c/tr\u003e\n    \u003ctr\u003e\n      \u003cth\u003e2\u003c/th\u003e\n      \u003ctd\u003e8623\u003c/td\u003e\n      \u003ctd\u003eCAULIFLOWER PASTA!?\u003c/td\u003e\n      \u003ctd\u003eAs the pasta cooked, I read the box to see wha...\u003c/td\u003e\n      \u003ctd\u003e4.0\u003c/td\u003e\n    \u003c/tr\u003e\n    \u003ctr\u003e\n      \u003cth\u003e3\u003c/th\u003e\n      \u003ctd\u003e9439\u003c/td\u003e\n      \u003ctd\u003eTasty and inexpensive\u003c/td\u003e\n      \u003ctd\u003eI really like this cereal. The flavor is sligh...\u003c/td\u003e\n      \u003ctd\u003e5.0\u003c/td\u003e\n    \u003c/tr\u003e\n    \u003ctr\u003e\n      \u003cth\u003e4\u003c/th\u003e\n      \u003ctd\u003e7110\u003c/td\u003e\n      \u003ctd\u003eI'm Confused\u003c/td\u003e\n      \u003ctd\u003eThe label on the bowl says 35 grams is in the ...\u003c/td\u003e\n      \u003ctd\u003e2.0\u003c/td\u003e\n    \u003c/tr\u003e\n    \u003ctr\u003e\n      \u003cth\u003e...\u003c/th\u003e\n      \u003ctd\u003e...\u003c/td\u003e\n      \u003ctd\u003e...\u003c/td\u003e\n      \u003ctd\u003e...\u003c/td\u003e\n      \u003ctd\u003e...\u003c/td\u003e\n    \u003c/tr\u003e\n    \u003ctr\u003e\n      \u003cth\u003e1245\u003c/th\u003e\n      \u003ctd\u003e2870\u003c/td\u003e\n      \u003ctd\u003e10 times the price\u003c/td\u003e\n      \u003ctd\u003eI recently bought Domino 10 lb premium cane su...\u003c/td\u003e\n      \u003ctd\u003e1.0\u003c/td\u003e\n    \u003c/tr\u003e\n    \u003ctr\u003e\n      \u003cth\u003e1246\u003c/th\u003e\n      \u003ctd\u003e8823\u003c/td\u003e\n      \u003ctd\u003eSweet \u0026amp; Crunchy Peanuts\u003c/td\u003e\n      \u003ctd\u003eWhile these are not the highest quality peanut...\u003c/td\u003e\n      \u003ctd\u003e3.0\u003c/td\u003e\n    \u003c/tr\u003e\n    \u003ctr\u003e\n      \u003cth\u003e1247\u003c/th\u003e\n      \u003ctd\u003e6343\u003c/td\u003e\n      \u003ctd\u003eAnnies GF Mac Deluxe\u003c/td\u003e\n      \u003ctd\u003eI had been using Annies GF Mac n Cheese, then ...\u003c/td\u003e\n      \u003ctd\u003e4.0\u003c/td\u003e\n    \u003c/tr\u003e\n    \u003ctr\u003e\n      \u003cth\u003e1248\u003c/th\u003e\n      \u003ctd\u003e5801\u003c/td\u003e\n      \u003ctd\u003eOK, but Check the Pricing\u003c/td\u003e\n      \u003ctd\u003eDr. Oz recommended this brand of coconut water...\u003c/td\u003e\n      \u003ctd\u003e3.0\u003c/td\u003e\n    \u003c/tr\u003e\n    \u003ctr\u003e\n      \u003cth\u003e1249\u003c/th\u003e\n      \u003ctd\u003e5115\u003c/td\u003e\n      \u003ctd\u003eJUST DOESN'T WORK FOR ME\u003c/td\u003e\n      \u003ctd\u003eI TAKE CHANCES WITH THINGS I SHOULDN'T.  END R...\u003c/td\u003e\n      \u003ctd\u003e2.0\u003c/td\u003e\n    \u003c/tr\u003e\n  \u003c/tbody\u003e\n\u003c/table\u003e\n\u003cp\u003e1250 rows × 4 columns\u003c/p\u003e\n\u003c/div\u003e",
                        "text/plain": "      product_id                            summary  \\\n0           4408          Does increase milk supply   \n1           4209  One bad packet ruins the product!   \n2           8623                CAULIFLOWER PASTA!?   \n3           9439              Tasty and inexpensive   \n4           7110                       I'm Confused   \n...          ...                                ...   \n1245        2870                 10 times the price   \n1246        8823            Sweet \u0026 Crunchy Peanuts   \n1247        6343               Annies GF Mac Deluxe   \n1248        5801          OK, but Check the Pricing   \n1249        5115           JUST DOESN'T WORK FOR ME   \n\n                                                 review  rating  \n0     This really helped to increase my milk supply....     3.0  \n1     I should have stayed with Idahoan brand. Poor ...     1.0  \n2     As the pasta cooked, I read the box to see wha...     4.0  \n3     I really like this cereal. The flavor is sligh...     5.0  \n4     The label on the bowl says 35 grams is in the ...     2.0  \n...                                                 ...     ...  \n1245  I recently bought Domino 10 lb premium cane su...     1.0  \n1246  While these are not the highest quality peanut...     3.0  \n1247  I had been using Annies GF Mac n Cheese, then ...     4.0  \n1248  Dr. Oz recommended this brand of coconut water...     3.0  \n1249  I TAKE CHANCES WITH THINGS I SHOULDN'T.  END R...     2.0  \n\n[1250 rows x 4 columns]"
                    },
                    "execution_count": 54,
                    "metadata": {},
                    "output_type": "execute_result"
                }
            ],
            "source": [
                "products = pd.read_csv('food_products.csv')\n",
                "\n",
                "products"
            ]
        },
        {
            "attachments": {},
            "cell_type": "markdown",
            "metadata": {},
            "source": [
                "## Extract sentiments\n",
                "\n",
                "We will **ignore** all reviews with *rating = 3*, since they tend to have a neutral sentiment."
            ]
        },
        {
            "cell_type": "code",
            "execution_count": 55,
            "metadata": {},
            "outputs": [
                {
                    "data": {
                        "text/plain": "889"
                    },
                    "execution_count": 55,
                    "metadata": {},
                    "output_type": "execute_result"
                }
            ],
            "source": [
                "products = products[products['rating'] != 3]\n",
                "products = products.copy()  # This is to avoid having a view on the old data\n",
                "\n",
                "len(products)"
            ]
        },
        {
            "cell_type": "code",
            "execution_count": 56,
            "metadata": {},
            "outputs": [
                {
                    "data": {
                        "text/plain": "\u003cAxesSubplot:title={'center':'Number of reviews with a given rating'}, xlabel='rating', ylabel='Count'\u003e"
                    },
                    "execution_count": 56,
                    "metadata": {},
                    "output_type": "execute_result"
                },
                {
                    "data": {
                        "image/png": "[encoded data removed]",
                        "text/plain": "\u003cFigure size 432x288 with 1 Axes\u003e"
                    },
                    "metadata": {
                        "needs_background": "light"
                    },
                    "output_type": "display_data"
                }
            ],
            "source": [
                "plt.title('Number of reviews with a given rating')\n",
                "sns.histplot(products['rating'])"
            ]
        },
        {
            "attachments": {},
            "cell_type": "markdown",
            "metadata": {},
            "source": [
                "Now, we will assign reviews with a rating of 4 or higher to be *positive* reviews, while the ones with rating of 2 or lower are *negative*. For the sentiment column, we use +1 for the positive class label and -1 for the negative class label."
            ]
        },
        {
            "cell_type": "code",
            "execution_count": 57,
            "metadata": {},
            "outputs": [
                {
                    "data": {
                        "text/html": "\u003cdiv\u003e\n\u003cstyle scoped\u003e\n    .dataframe tbody tr th:only-of-type {\n        vertical-align: middle;\n    }\n\n    .dataframe tbody tr th {\n        vertical-align: top;\n    }\n\n    .dataframe thead th {\n        text-align: right;\n    }\n\u003c/style\u003e\n\u003ctable border=\"1\" class=\"dataframe\"\u003e\n  \u003cthead\u003e\n    \u003ctr style=\"text-align: right;\"\u003e\n      \u003cth\u003e\u003c/th\u003e\n      \u003cth\u003eproduct_id\u003c/th\u003e\n      \u003cth\u003esummary\u003c/th\u003e\n      \u003cth\u003ereview\u003c/th\u003e\n      \u003cth\u003erating\u003c/th\u003e\n      \u003cth\u003esentiment\u003c/th\u003e\n    \u003c/tr\u003e\n  \u003c/thead\u003e\n  \u003ctbody\u003e\n    \u003ctr\u003e\n      \u003cth\u003e1\u003c/th\u003e\n      \u003ctd\u003e4209\u003c/td\u003e\n      \u003ctd\u003eOne bad packet ruins the product!\u003c/td\u003e\n      \u003ctd\u003eI should have stayed with Idahoan brand. Poor ...\u003c/td\u003e\n      \u003ctd\u003e1.0\u003c/td\u003e\n      \u003ctd\u003e-1\u003c/td\u003e\n    \u003c/tr\u003e\n    \u003ctr\u003e\n      \u003cth\u003e2\u003c/th\u003e\n      \u003ctd\u003e8623\u003c/td\u003e\n      \u003ctd\u003eCAULIFLOWER PASTA!?\u003c/td\u003e\n      \u003ctd\u003eAs the pasta cooked, I read the box to see wha...\u003c/td\u003e\n      \u003ctd\u003e4.0\u003c/td\u003e\n      \u003ctd\u003e1\u003c/td\u003e\n    \u003c/tr\u003e\n    \u003ctr\u003e\n      \u003cth\u003e3\u003c/th\u003e\n      \u003ctd\u003e9439\u003c/td\u003e\n      \u003ctd\u003eTasty and inexpensive\u003c/td\u003e\n      \u003ctd\u003eI really like this cereal. The flavor is sligh...\u003c/td\u003e\n      \u003ctd\u003e5.0\u003c/td\u003e\n      \u003ctd\u003e1\u003c/td\u003e\n    \u003c/tr\u003e\n    \u003ctr\u003e\n      \u003cth\u003e4\u003c/th\u003e\n      \u003ctd\u003e7110\u003c/td\u003e\n      \u003ctd\u003eI'm Confused\u003c/td\u003e\n      \u003ctd\u003eThe label on the bowl says 35 grams is in the ...\u003c/td\u003e\n      \u003ctd\u003e2.0\u003c/td\u003e\n      \u003ctd\u003e-1\u003c/td\u003e\n    \u003c/tr\u003e\n    \u003ctr\u003e\n      \u003cth\u003e5\u003c/th\u003e\n      \u003ctd\u003e1373\u003c/td\u003e\n      \u003ctd\u003eFlat\u003c/td\u003e\n      \u003ctd\u003eDoesn't taste like ginger.  Thought it would s...\u003c/td\u003e\n      \u003ctd\u003e2.0\u003c/td\u003e\n      \u003ctd\u003e-1\u003c/td\u003e\n    \u003c/tr\u003e\n  \u003c/tbody\u003e\n\u003c/table\u003e\n\u003c/div\u003e",
                        "text/plain": "   product_id                            summary  \\\n1        4209  One bad packet ruins the product!   \n2        8623                CAULIFLOWER PASTA!?   \n3        9439              Tasty and inexpensive   \n4        7110                       I'm Confused   \n5        1373                               Flat   \n\n                                              review  rating  sentiment  \n1  I should have stayed with Idahoan brand. Poor ...     1.0         -1  \n2  As the pasta cooked, I read the box to see wha...     4.0          1  \n3  I really like this cereal. The flavor is sligh...     5.0          1  \n4  The label on the bowl says 35 grams is in the ...     2.0         -1  \n5  Doesn't taste like ginger.  Thought it would s...     2.0         -1  "
                    },
                    "execution_count": 57,
                    "metadata": {},
                    "output_type": "execute_result"
                }
            ],
            "source": [
                "products['sentiment'] = products['rating'].apply(lambda rating : +1 if rating \u003e 3 else -1)\n",
                "products.head()"
            ]
        },
        {
            "attachments": {},
            "cell_type": "markdown",
            "metadata": {},
            "source": [
                "Now, we can see that the dataset contains an extra column called **sentiment** which is either positive (+1) or negative (-1)."
            ]
        },
        {
            "attachments": {},
            "cell_type": "markdown",
            "metadata": {},
            "source": [
                "## Build the word count vector for each review"
            ]
        },
        {
            "attachments": {},
            "cell_type": "markdown",
            "metadata": {},
            "source": [
                "Let us explore a specific example of a food product. We have information about the product, the review left, and both the rating that was given and the sentiment label we computed."
            ]
        },
        {
            "cell_type": "code",
            "execution_count": 58,
            "metadata": {},
            "outputs": [
                {
                    "data": {
                        "text/plain": "product_id                                                  918\nsummary                                It's PRIME-arily Lobster\nreview        if it's primarily made from lobster, what else...\nrating                                                      4.0\nsentiment                                                     1\nName: 34, dtype: object"
                    },
                    "execution_count": 58,
                    "metadata": {},
                    "output_type": "execute_result"
                }
            ],
            "source": [
                "products.iloc[21]"
            ]
        },
        {
            "attachments": {},
            "cell_type": "markdown",
            "metadata": {},
            "source": [
                "To work with the text data, we will need to eventually turn it into word counts. In other words, we will be making a feature for every word that could possibly appear in the data, and the value for that feature for one example would be the number of times that word appears in that example. \n",
                "\n",
                "To accomplish this, we will need to do two data transformation:\n",
                "\n",
                "1. Remove punctuation using [Python's built-in](https://docs.python.org/2/library/string.html) string functionality.\n",
                "2. Transform the reviews into word-counts.\n",
                "\n",
                "\n",
                "\n",
                "\u003e **Aside**. In this assignment, we remove all punctuations for the sake of simplicity. A smarter approach to punctuations would preserve phrases such as \"I'd\", \"would've\", \"hadn't\" and so forth. \n",
                "\u003e \n",
                "\u003e If you are curious in learning how to handle these complexities in practice, you might be interested in  researching more about tokenization and NLP like [this page](https://towardsdatascience.com/tokenization-for-natural-language-processing-a179a891bad4) shows. Note that you do not need to do any of that stuff for this assignment.\n",
                "\n",
                "So first, we remove punctuation with the code in the next cell."
            ]
        },
        {
            "cell_type": "code",
            "execution_count": 59,
            "metadata": {},
            "outputs": [],
            "source": [
                "def remove_punctuation(text):\n",
                "    if type(text) is str:\n",
                "        return text.translate(str.maketrans('', '', string.punctuation))\n",
                "    else:\n",
                "        return ''\n",
                "    \n",
                "products['review_clean'] = products['review'].apply(remove_punctuation)"
            ]
        },
        {
            "attachments": {},
            "cell_type": "markdown",
            "metadata": {},
            "source": [
                "Next, we use scikit-learn's [CountVectorizer](https://scikit-learn.org/stable/modules/generated/sklearn.feature_extraction.text.CountVectorizer.html) to get counts for each word. "
            ]
        },
        {
            "cell_type": "code",
            "execution_count": 60,
            "metadata": {},
            "outputs": [
                {
                    "data": {
                        "text/html": "\u003cdiv\u003e\n\u003cstyle scoped\u003e\n    .dataframe tbody tr th:only-of-type {\n        vertical-align: middle;\n    }\n\n    .dataframe tbody tr th {\n        vertical-align: top;\n    }\n\n    .dataframe thead th {\n        text-align: right;\n    }\n\u003c/style\u003e\n\u003ctable border=\"1\" class=\"dataframe\"\u003e\n  \u003cthead\u003e\n    \u003ctr style=\"text-align: right;\"\u003e\n      \u003cth\u003e\u003c/th\u003e\n      \u003cth\u003e0000\u003c/th\u003e\n      \u003cth\u003e002\u003c/th\u003e\n      \u003cth\u003e004\u003c/th\u003e\n      \u003cth\u003e004oz\u003c/th\u003e\n      \u003cth\u003e012months\u003c/th\u003e\n      \u003cth\u003e032\u003c/th\u003e\n      \u003cth\u003e051\u003c/th\u003e\n      \u003cth\u003e08\u003c/th\u003e\n      \u003cth\u003e0f\u003c/th\u003e\n      \u003cth\u003e10\u003c/th\u003e\n      \u003cth\u003e...\u003c/th\u003e\n      \u003cth\u003ezico1\u003c/th\u003e\n      \u003cth\u003ezico3\u003c/th\u003e\n      \u003cth\u003ezicos\u003c/th\u003e\n      \u003cth\u003ezillion\u003c/th\u003e\n      \u003cth\u003ezinger\u003c/th\u003e\n      \u003cth\u003ezip\u003c/th\u003e\n      \u003cth\u003eziplock\u003c/th\u003e\n      \u003cth\u003esentiment\u003c/th\u003e\n      \u003cth\u003ereview_clean\u003c/th\u003e\n      \u003cth\u003esummary\u003c/th\u003e\n    \u003c/tr\u003e\n  \u003c/thead\u003e\n  \u003ctbody\u003e\n    \u003ctr\u003e\n      \u003cth\u003e1\u003c/th\u003e\n      \u003ctd\u003e0\u003c/td\u003e\n      \u003ctd\u003e0\u003c/td\u003e\n      \u003ctd\u003e0\u003c/td\u003e\n      \u003ctd\u003e0\u003c/td\u003e\n      \u003ctd\u003e0\u003c/td\u003e\n      \u003ctd\u003e0\u003c/td\u003e\n      \u003ctd\u003e0\u003c/td\u003e\n      \u003ctd\u003e0\u003c/td\u003e\n      \u003ctd\u003e0\u003c/td\u003e\n      \u003ctd\u003e0\u003c/td\u003e\n      \u003ctd\u003e...\u003c/td\u003e\n      \u003ctd\u003e0\u003c/td\u003e\n      \u003ctd\u003e0\u003c/td\u003e\n      \u003ctd\u003e0\u003c/td\u003e\n      \u003ctd\u003e0\u003c/td\u003e\n      \u003ctd\u003e0\u003c/td\u003e\n      \u003ctd\u003e0\u003c/td\u003e\n      \u003ctd\u003e0\u003c/td\u003e\n      \u003ctd\u003e-1\u003c/td\u003e\n      \u003ctd\u003eI should have stayed with Idahoan brand Poor B...\u003c/td\u003e\n      \u003ctd\u003eOne bad packet ruins the product!\u003c/td\u003e\n    \u003c/tr\u003e\n    \u003ctr\u003e\n      \u003cth\u003e2\u003c/th\u003e\n      \u003ctd\u003e0\u003c/td\u003e\n      \u003ctd\u003e0\u003c/td\u003e\n      \u003ctd\u003e0\u003c/td\u003e\n      \u003ctd\u003e0\u003c/td\u003e\n      \u003ctd\u003e0\u003c/td\u003e\n      \u003ctd\u003e0\u003c/td\u003e\n      \u003ctd\u003e0\u003c/td\u003e\n      \u003ctd\u003e0\u003c/td\u003e\n      \u003ctd\u003e0\u003c/td\u003e\n      \u003ctd\u003e0\u003c/td\u003e\n      \u003ctd\u003e...\u003c/td\u003e\n      \u003ctd\u003e0\u003c/td\u003e\n      \u003ctd\u003e0\u003c/td\u003e\n      \u003ctd\u003e0\u003c/td\u003e\n      \u003ctd\u003e0\u003c/td\u003e\n      \u003ctd\u003e0\u003c/td\u003e\n      \u003ctd\u003e0\u003c/td\u003e\n      \u003ctd\u003e0\u003c/td\u003e\n      \u003ctd\u003e1\u003c/td\u003e\n      \u003ctd\u003eAs the pasta cooked I read the box to see what...\u003c/td\u003e\n      \u003ctd\u003eCAULIFLOWER PASTA!?\u003c/td\u003e\n    \u003c/tr\u003e\n    \u003ctr\u003e\n      \u003cth\u003e3\u003c/th\u003e\n      \u003ctd\u003e0\u003c/td\u003e\n      \u003ctd\u003e0\u003c/td\u003e\n      \u003ctd\u003e0\u003c/td\u003e\n      \u003ctd\u003e0\u003c/td\u003e\n      \u003ctd\u003e0\u003c/td\u003e\n      \u003ctd\u003e0\u003c/td\u003e\n      \u003ctd\u003e0\u003c/td\u003e\n      \u003ctd\u003e0\u003c/td\u003e\n      \u003ctd\u003e0\u003c/td\u003e\n      \u003ctd\u003e0\u003c/td\u003e\n      \u003ctd\u003e...\u003c/td\u003e\n      \u003ctd\u003e0\u003c/td\u003e\n      \u003ctd\u003e0\u003c/td\u003e\n      \u003ctd\u003e0\u003c/td\u003e\n      \u003ctd\u003e0\u003c/td\u003e\n      \u003ctd\u003e0\u003c/td\u003e\n      \u003ctd\u003e0\u003c/td\u003e\n      \u003ctd\u003e0\u003c/td\u003e\n      \u003ctd\u003e1\u003c/td\u003e\n      \u003ctd\u003eI really like this cereal The flavor is slight...\u003c/td\u003e\n      \u003ctd\u003eTasty and inexpensive\u003c/td\u003e\n    \u003c/tr\u003e\n    \u003ctr\u003e\n      \u003cth\u003e4\u003c/th\u003e\n      \u003ctd\u003e0\u003c/td\u003e\n      \u003ctd\u003e0\u003c/td\u003e\n      \u003ctd\u003e0\u003c/td\u003e\n      \u003ctd\u003e0\u003c/td\u003e\n      \u003ctd\u003e0\u003c/td\u003e\n      \u003ctd\u003e0\u003c/td\u003e\n      \u003ctd\u003e0\u003c/td\u003e\n      \u003ctd\u003e0\u003c/td\u003e\n      \u003ctd\u003e0\u003c/td\u003e\n      \u003ctd\u003e0\u003c/td\u003e\n      \u003ctd\u003e...\u003c/td\u003e\n      \u003ctd\u003e0\u003c/td\u003e\n      \u003ctd\u003e0\u003c/td\u003e\n      \u003ctd\u003e0\u003c/td\u003e\n      \u003ctd\u003e0\u003c/td\u003e\n      \u003ctd\u003e0\u003c/td\u003e\n      \u003ctd\u003e0\u003c/td\u003e\n      \u003ctd\u003e0\u003c/td\u003e\n      \u003ctd\u003e-1\u003c/td\u003e\n      \u003ctd\u003eThe label on the bowl says 35 grams is in the ...\u003c/td\u003e\n      \u003ctd\u003eI'm Confused\u003c/td\u003e\n    \u003c/tr\u003e\n    \u003ctr\u003e\n      \u003cth\u003e5\u003c/th\u003e\n      \u003ctd\u003e0\u003c/td\u003e\n      \u003ctd\u003e0\u003c/td\u003e\n      \u003ctd\u003e0\u003c/td\u003e\n      \u003ctd\u003e0\u003c/td\u003e\n      \u003ctd\u003e0\u003c/td\u003e\n      \u003ctd\u003e0\u003c/td\u003e\n      \u003ctd\u003e0\u003c/td\u003e\n      \u003ctd\u003e0\u003c/td\u003e\n      \u003ctd\u003e0\u003c/td\u003e\n      \u003ctd\u003e0\u003c/td\u003e\n      \u003ctd\u003e...\u003c/td\u003e\n      \u003ctd\u003e0\u003c/td\u003e\n      \u003ctd\u003e0\u003c/td\u003e\n      \u003ctd\u003e0\u003c/td\u003e\n      \u003ctd\u003e0\u003c/td\u003e\n      \u003ctd\u003e0\u003c/td\u003e\n      \u003ctd\u003e0\u003c/td\u003e\n      \u003ctd\u003e0\u003c/td\u003e\n      \u003ctd\u003e-1\u003c/td\u003e\n      \u003ctd\u003eDoesnt taste like ginger  Thought it would sav...\u003c/td\u003e\n      \u003ctd\u003eFlat\u003c/td\u003e\n    \u003c/tr\u003e\n  \u003c/tbody\u003e\n\u003c/table\u003e\n\u003cp\u003e5 rows × 7628 columns\u003c/p\u003e\n\u003c/div\u003e",
                        "text/plain": "   0000  002  004  004oz  012months  032  051  08  0f  10  ...  zico1  zico3  \\\n1     0    0    0      0          0    0    0   0   0   0  ...      0      0   \n2     0    0    0      0          0    0    0   0   0   0  ...      0      0   \n3     0    0    0      0          0    0    0   0   0   0  ...      0      0   \n4     0    0    0      0          0    0    0   0   0   0  ...      0      0   \n5     0    0    0      0          0    0    0   0   0   0  ...      0      0   \n\n   zicos  zillion  zinger  zip  ziplock  sentiment  \\\n1      0        0       0    0        0         -1   \n2      0        0       0    0        0          1   \n3      0        0       0    0        0          1   \n4      0        0       0    0        0         -1   \n5      0        0       0    0        0         -1   \n\n                                        review_clean  \\\n1  I should have stayed with Idahoan brand Poor B...   \n2  As the pasta cooked I read the box to see what...   \n3  I really like this cereal The flavor is slight...   \n4  The label on the bowl says 35 grams is in the ...   \n5  Doesnt taste like ginger  Thought it would sav...   \n\n                             summary  \n1  One bad packet ruins the product!  \n2                CAULIFLOWER PASTA!?  \n3              Tasty and inexpensive  \n4                       I'm Confused  \n5                               Flat  \n\n[5 rows x 7628 columns]"
                    },
                    "execution_count": 60,
                    "metadata": {},
                    "output_type": "execute_result"
                }
            ],
            "source": [
                "# Make counts\n",
                "vectorizer = CountVectorizer()\n",
                "count_matrix = vectorizer.fit_transform(products['review_clean'])\n",
                "\n",
                "# Make a new DataFrame with the counts information\n",
                "product_data = pd.DataFrame(count_matrix.toarray(),\n",
                "        index=products.index,\n",
                "        columns=vectorizer.get_feature_names())\n",
                "\n",
                "# Add the old columns to our new DataFrame. \n",
                "# We won't use review_clean and the summary in our model, but we will keep\n",
                "# them to look at later.\n",
                "product_data['sentiment'] = products['sentiment']\n",
                "product_data['review_clean'] = products['review_clean']  \n",
                "product_data['summary'] = products['summary']\n",
                "\n",
                "product_data.head()"
            ]
        },
        {
            "attachments": {},
            "cell_type": "markdown",
            "metadata": {},
            "source": [
                "We have now created a lot of features to work with! Note that in the table above, we will have one feature for each word taht appeared in the data and the value for that feature is the count of that word in that review. So for example, if review 5 had the word \"dog\" in it 3 times, the value in row 5 and column \"dog\" would be 3.\n",
                "\n",
                "## Split data into training, validation and test sets."
            ]
        },
        {
            "attachments": {},
            "cell_type": "markdown",
            "metadata": {},
            "source": [
                "Let's perform a train/validation/test split with 80% of the data in the training set, 10% of the data in the validation set, 10% test. Note that we use `random_state=3` so that everyone gets the same result."
            ]
        },
        {
            "cell_type": "code",
            "execution_count": 61,
            "metadata": {},
            "outputs": [],
            "source": [
                "train_data, test_data = train_test_split(product_data, test_size=0.2, random_state=3)\n",
                "validation_data, test_data = train_test_split(test_data, test_size=0.5, random_state=3)"
            ]
        },
        {
            "attachments": {},
            "cell_type": "markdown",
            "metadata": {},
            "source": [
                "# Baseline: Majority class prediction\n",
                "\n",
                "It is quite common to use the **majority class classifier** as the a baseline (or reference) model for comparison with your classifier model. The majority classifier model predicts the majority class for all data points.\n",
                "\n",
                "To \"train\" the majority class classifier, you should simply find the most frequent target in the training data.\n",
                "\n",
                "### **Question 1:** Majority class classifier\n",
                "* Compute the most frequent label and store it in a variable called `majority_label`.\n",
                "* What is the validation accuracy of the majority class classifer. Store your result as a number between 0 and 1 in a variable called `majority_classifier_validation_accuracy`.\n",
                "  \n",
                "  *Hint:* pandas allows you to take the sum of a boolean series - true values are equal to 1, false values are equal 0."
            ]
        },
        {
            "cell_type": "code",
            "execution_count": 62,
            "metadata": {},
            "outputs": [
                {
                    "name": "stdout",
                    "output_type": "stream",
                    "text": "-1\n0.5168539325842697\n"
                }
            ],
            "source": [
                "### edTest(test_q1_majority_classifier) ###\n",
                "\n",
                "# TODO \"Train\" a majority class classifier and calculate its validation accuracy\n",
                "sum_positive = (train_data['sentiment'] == +1).sum()\n",
                "sum_negative = (train_data['sentiment'] == -1).sum()\n",
                "\n",
                "majority_label = 0\n",
                "if sum_positive \u003e sum_negative:\n",
                "    majority_label = +1\n",
                "else:\n",
                "    majority_label = -1\n",
                "\n",
                "print(majority_label)\n",
                "\n",
                "sum_majority_validation = (validation_data['sentiment'] == majority_label).sum()\n",
                "majority_classifier_validation_accuracy = sum_majority_validation / len(validation_data)\n",
                "\n",
                "print(majority_classifier_validation_accuracy)"
            ]
        },
        {
            "attachments": {},
            "cell_type": "markdown",
            "metadata": {},
            "source": [
                "# Train a sentiment classifier with logistic regression\n",
                "\n",
                "We will now use logistic regression to create a sentiment classifier on the training data. This model will use the columns representing word coutnts as features and the column **sentiment** as the target. We will set **no regularization penalty** (and set `random_state=1` to get the same answer as everyone else). \n",
                "\n",
                "You can see scikit-learn's documentation for LogisticRegression [here](https://scikit-learn.org/stable/modules/generated/sklearn.linear_model.LogisticRegression.html). Note that the parameter for this class to control regularization is named `C` and it represents the inverse of the penalty strenght. In other words $C = \\frac{1}{\\lambda}$. This means to have very little regularization, we make `C` a very large number (corresponding to a very small $\\lambda$)."
            ]
        },
        {
            "cell_type": "code",
            "execution_count": 63,
            "metadata": {},
            "outputs": [
                {
                    "data": {
                        "text/plain": "LogisticRegression(C=1e+23, random_state=1)"
                    },
                    "execution_count": 63,
                    "metadata": {},
                    "output_type": "execute_result"
                }
            ],
            "source": [
                "features = vectorizer.get_feature_names()\n",
                "\n",
                "# Note: C = 1/Lambda. Setting C to a really high value is the same as setting lambda = 0\n",
                "sentiment_model = LogisticRegression(penalty='l2', random_state=1, C=1e23)\n",
                "sentiment_model.fit(train_data[features], train_data['sentiment'])"
            ]
        },
        {
            "attachments": {},
            "cell_type": "markdown",
            "metadata": {},
            "source": [
                "Let's look at some of the coefficients and the corresponding words. The weights are stored in a `coef_` property: "
            ]
        },
        {
            "cell_type": "code",
            "execution_count": 64,
            "metadata": {},
            "outputs": [
                {
                    "name": "stdout",
                    "output_type": "stream",
                    "text": "Smallest coefficient -11.175390439419369\nLargest coefficient: 19.979314949879473\n"
                }
            ],
            "source": [
                "coefficients = sentiment_model.coef_[0] \n",
                "\n",
                "print('Smallest coefficient', coefficients.min())\n",
                "print('Largest coefficient:', coefficients.max())\n",
                ""
            ]
        },
        {
            "attachments": {},
            "cell_type": "markdown",
            "metadata": {},
            "source": [
                "### **Question 2:** Most Positive/Negative Word\n",
                "For the sentiment model we trained above, compute the word with the most negative weight and the word with the most positive weight.\n",
                "\n",
                "Store your results in the variables `most_negative_word` and `most_positive_word`.\n",
                "\n",
                "While you only need to write code to compute the most negative and most positive, we also recommend printing out the words with the highest magnitude coefficients to make sure they make sense.\n",
                ""
            ]
        },
        {
            "cell_type": "code",
            "execution_count": 65,
            "metadata": {},
            "outputs": [
                {
                    "name": "stdout",
                    "output_type": "stream",
                    "text": "not\ngreat\n"
                }
            ],
            "source": [
                "### edTest(test_q2_most_pos_neg_words) ###\n",
                "\n",
                "# TODO Find the most positive word and most negative word in the sentiment_model\n",
                "most_negative_index=0\n",
                "most_negative=coefficients[0]\n",
                "most_positive_index=0\n",
                "most_positive=coefficients[0]\n",
                "\n",
                "for i in range(len(coefficients)):\n",
                "    coef = coefficients[i]\n",
                "\n",
                "    if coef \u003c most_negative:\n",
                "        most_negative = coef\n",
                "        most_negative_index = i\n",
                "    if coef \u003e most_positive:\n",
                "        most_positive = coef\n",
                "        most_positive_index = i\n",
                "\n",
                "most_negative_word = features[most_negative_index]\n",
                "most_positive_word = features[most_positive_index]\n",
                "\n",
                "print(most_negative_word)\n",
                "print(most_positive_word)"
            ]
        },
        {
            "attachments": {},
            "cell_type": "markdown",
            "metadata": {},
            "source": [
                "## Making predictions with logistic regression\n",
                "\n",
                "Now that a model is trained, we can make predictions on the **validation data**. In this first section, we will restrict the examples we are looking at to 3 examples in the validation dataset. We refer to this set of 3 examples as the **sample_data**."
            ]
        },
        {
            "cell_type": "code",
            "execution_count": 66,
            "metadata": {},
            "outputs": [
                {
                    "data": {
                        "text/html": "\u003cdiv\u003e\n\u003cstyle scoped\u003e\n    .dataframe tbody tr th:only-of-type {\n        vertical-align: middle;\n    }\n\n    .dataframe tbody tr th {\n        vertical-align: top;\n    }\n\n    .dataframe thead th {\n        text-align: right;\n    }\n\u003c/style\u003e\n\u003ctable border=\"1\" class=\"dataframe\"\u003e\n  \u003cthead\u003e\n    \u003ctr style=\"text-align: right;\"\u003e\n      \u003cth\u003e\u003c/th\u003e\n      \u003cth\u003esentiment\u003c/th\u003e\n      \u003cth\u003ereview_clean\u003c/th\u003e\n      \u003cth\u003esummary\u003c/th\u003e\n    \u003c/tr\u003e\n  \u003c/thead\u003e\n  \u003ctbody\u003e\n    \u003ctr\u003e\n      \u003cth\u003e493\u003c/th\u003e\n      \u003ctd\u003e-1\u003c/td\u003e\n      \u003ctd\u003eThe Chocolate Espresso flavor of the thinkThin...\u003c/td\u003e\n      \u003ctd\u003eNot a good taste\u003c/td\u003e\n    \u003c/tr\u003e\n    \u003ctr\u003e\n      \u003cth\u003e311\u003c/th\u003e\n      \u003ctd\u003e1\u003c/td\u003e\n      \u003ctd\u003ehard candy with a smooth creamy milk taste i l...\u003c/td\u003e\n      \u003ctd\u003egreat taste\u003c/td\u003e\n    \u003c/tr\u003e\n    \u003ctr\u003e\n      \u003cth\u003e570\u003c/th\u003e\n      \u003ctd\u003e1\u003c/td\u003e\n      \u003ctd\u003eWhen I was growing up split pea soup was a uni...\u003c/td\u003e\n      \u003ctd\u003eMore like split pea stew\u003c/td\u003e\n    \u003c/tr\u003e\n  \u003c/tbody\u003e\n\u003c/table\u003e\n\u003c/div\u003e",
                        "text/plain": "     sentiment                                       review_clean  \\\n493         -1  The Chocolate Espresso flavor of the thinkThin...   \n311          1  hard candy with a smooth creamy milk taste i l...   \n570          1  When I was growing up split pea soup was a uni...   \n\n                      summary  \n493          Not a good taste  \n311               great taste  \n570  More like split pea stew  "
                    },
                    "execution_count": 66,
                    "metadata": {},
                    "output_type": "execute_result"
                }
            ],
            "source": [
                "sample_data = validation_data[8:11]\n",
                "sample_data[['sentiment', 'review_clean', 'summary']]"
            ]
        },
        {
            "attachments": {},
            "cell_type": "markdown",
            "metadata": {},
            "source": [
                "### Predicting sentiment\n",
                "Let's start by predicting the sentiment of the 3 examples in the `sample_data`. The `predict_proba` method on the `LogisticRegression` class outputs a probability for each class possible.\n",
                "\n",
                "The output has one row for each example. Each row is an array of 2 numbers, the first is the predictor's prediction for the probability it is a negative sentiment example, and the second is the probability of it being a positive sentiment example."
            ]
        },
        {
            "cell_type": "code",
            "execution_count": 67,
            "metadata": {},
            "outputs": [
                {
                    "name": "stdout",
                    "output_type": "stream",
                    "text": "  Prob Negative, Prob Positive\n[[1.00000000e+00 1.11693736e-31]\n [2.33590924e-13 1.00000000e+00]\n [1.00000000e+00 3.08339283e-22]]\n"
                }
            ],
            "source": [
                "print('  Prob Negative, Prob Positive')\n",
                "print(sentiment_model.predict_proba(sample_data[features]))"
            ]
        },
        {
            "attachments": {},
            "cell_type": "markdown",
            "metadata": {},
            "source": [
                "We are also able to make predictions using the `predict` function"
            ]
        },
        {
            "cell_type": "code",
            "execution_count": 68,
            "metadata": {},
            "outputs": [
                {
                    "name": "stdout",
                    "output_type": "stream",
                    "text": "Predicted labels\n[-1  1 -1]\n"
                }
            ],
            "source": [
                "print('Predicted labels')\n",
                "print(sentiment_model.predict(sample_data[features]))"
            ]
        },
        {
            "attachments": {},
            "cell_type": "markdown",
            "metadata": {},
            "source": [
                "### **Question 3:** Find the most positive (and negative) review"
            ]
        },
        {
            "attachments": {},
            "cell_type": "markdown",
            "metadata": {},
            "source": [
                "We now turn to examining the full **validation_data** dataset \u003cspan style=\"color:red\"\u003e(not sample_data)\u003c/span\u003e, , and use `sklearn` to form predictions on all of the data points for faster performance.\n",
                "\n",
                "Using the `sentiment_model`, find review in the **validation_data** with the **highest probability** of being classified as a **positive review**. Also, find the reivew with the **highest probability** of being classified as a **negative review**. We refer to these as the \"most positive review\" and \"most negative review\" respectively. Store the `review_clean` column value for each of these rows in `most_positive_review` and `most_negative_review` respectively.\n",
                "\n",
                "If there is a tie for the most positive/negative reivew, you should always grab the one that appears *first* in the validation data.\n",
                "\n",
                "*Hint*: Once you know the index of the most positive/negative reviews, use the `.iloc[]` accessor on the DataFrame to get that row and find its `review_clean` value."
            ]
        },
        {
            "cell_type": "code",
            "execution_count": 69,
            "metadata": {},
            "outputs": [
                {
                    "name": "stdout",
                    "output_type": "stream",
                    "text": "This coconut water has a very weird smell and a bad after taste like its an old coconut  The other coconut water I have had is the Vita coco and its not bad but its better than this Zico  Zico does not taste fresh at all  If you dont breath you can drink it down  Im going to give the rest of the cartons to my mom I hope she likes it  Ewww\nI have been on an organic foods diet for almost a year now and I have become much more sensitive to what I eat and drink Out are the energy drinks loaded with sugars caffeine and artificial ingredients In are the more gentler and natural energy boosters This was  a surprise for me I really liked it and it did give an energy boost without any late energy crashesThe flavor is nice A good palatable taste and feel in the mouth No bad after taste It sits well on the stomach even an empty one It provides and fairly quick ramp up in energy and alertness and lasts for several hours to all day The ramp down in gently and hardly noticeable I like the ingredients and the overall effectI am finding that I need less energy boosting as my diet is becoming cleaner and healthier However I am going to rely on these until the day when I can maintain great energy levels without supports Or at least keeps a few in the fridge for special occasions 5 Stars easy Hope you get as much out of it as I have\n"
                }
            ],
            "source": [
                "### edTest(test_q3_most_positive_negative_review) ###\n",
                "\n",
                "# TODO Find the review_clean values for the most positive and most negative review\n",
                "\n",
                "probas = sentiment_model.predict_proba(validation_data[features])\n",
                "predicts = sentiment_model.predict(validation_data[features])\n",
                "\n",
                "highestProbNegative = probas[0][0]\n",
                "highestProbNegativeIndex=0\n",
                "highestProbPositive = probas[0][1]\n",
                "highestProbPositiveIndex=0\n",
                "\n",
                "for i in range(len(predicts)):\n",
                "    predict = predicts[i]\n",
                "    proba = probas[i]\n",
                "\n",
                "    # negative predict\n",
                "    if predict == -1:\n",
                "        if proba[0] \u003e highestProbNegative:\n",
                "            highestProbNegative = proba[0]\n",
                "            highestProbNegativeIndex = i\n",
                "    \n",
                "    # positive predict\n",
                "    else:\n",
                "        if proba[1] \u003e highestProbPositive:\n",
                "            highestProbPositive = proba[1]\n",
                "            highestProbPositiveIndex = i\n",
                "\n",
                "most_negative_review = validation_data.iloc[highestProbNegativeIndex]['review_clean']\n",
                "most_positive_review = validation_data.iloc[highestProbPositiveIndex]['review_clean']\n",
                "\n",
                "print(most_negative_review)\n",
                "print(most_positive_review)"
            ]
        },
        {
            "attachments": {},
            "cell_type": "markdown",
            "metadata": {},
            "source": [
                "Do you notice something special about those reviews? They are both pretty long! Here we just count number of words regardless of the length of the review but clearly that can affect the results, and in practice one can use some techniques to normalize the counts to avoid prioritizing long reviews over shorter ones (we will discuss this idea in a future week).\n",
                "\n",
                "### **Question 4:** Compute validation accuracy\n",
                "Compute the validation accuracy for the model we just trained. Report the validationaccuracy as a number between 0 and 1 stored in a variable called `sentiment_model_validation_accuracy`.\n",
                "\n",
                "Below, calculate the accuracy of the predictor using sklearn's [accuracy_score](https://scikit-learn.org/stable/modules/generated/sklearn.metrics.accuracy_score.html) function."
            ]
        },
        {
            "cell_type": "code",
            "execution_count": 70,
            "metadata": {},
            "outputs": [
                {
                    "name": "stdout",
                    "output_type": "stream",
                    "text": "0.6404494382022472\n"
                }
            ],
            "source": [
                "### edTest(test_q4_sentiment_model_accuracy) ###\n",
                "\n",
                "# TODO Find the validation accuracy of the sentiment model\n",
                "\n",
                "from sklearn.metrics import accuracy_score\n",
                "\n",
                "sentiment_model_validation_accuracy = accuracy_score(validation_data['sentiment'], predicts)\n",
                "print(sentiment_model_validation_accuracy)"
            ]
        },
        {
            "attachments": {},
            "cell_type": "markdown",
            "metadata": {},
            "source": [
                "### **Question 5**: Which model?\n",
                "Compare the validation accuracy for this problem with the validation accuracy of the baseline majority class classifier. Which model would you predict will peform better in the future? \n",
                "\n",
                "* If you think the majority class classifier would do better, write `q5 = 'majority_class_classifier'`.\n",
                "* If you think the sentiment model would do better, write `q5 = 'sentiment_model'`.\n",
                "* If you think we can't choose which model will be best yet since we haven't assessed on the test set, write `q5 = 'cannot say'`.\n",
                "\n",
                "Save your variable indiciating your answer in the next cell."
            ]
        },
        {
            "cell_type": "code",
            "execution_count": 71,
            "metadata": {},
            "outputs": [],
            "source": [
                "### edTest(test_q5_which_model) ###\n",
                "\n",
                "# TODO Answer the question posed above.\n",
                "if sentiment_model_validation_accuracy \u003e= majority_classifier_validation_accuracy:\n",
                "    q5 = 'sentiment_model'\n",
                "    \n",
                "else:\n",
                "    q5 = 'majority_class_classifier'"
            ]
        },
        {
            "attachments": {},
            "cell_type": "markdown",
            "metadata": {},
            "source": [
                "# Create a confusion matrix\n",
                "\n",
                "A common tool used when analyzing the peformance of a predictor in a classification problem is to look at the confusion matrix, as well as the overall accuracy.\n",
                "\n",
                "We've created a function that will plot a confusion matrix for you given a set of inputs which are the values that should appear within each cell.\n",
                "Recall that there are four values associated with a confusion matrix: true positive, true negative, false positive, and false negative which we will abberviate as TP, TN, FP, and FN, respecitvely. In other words, for the next problem we have handled the plotting code for you that you can use, but you will need to compute the values for each of the confusion matrix dimensions."
            ]
        },
        {
            "cell_type": "code",
            "execution_count": 72,
            "metadata": {},
            "outputs": [],
            "source": [
                "def plot_confusion_matrix(tp, fp, fn, tn):\n",
                "    \"\"\"\n",
                "    Plots a confusion matrix using the values \n",
                "       tp - True Positive\n",
                "       fp - False Positive\n",
                "       fn - False Negative\n",
                "       tn - True Negative\n",
                "    \"\"\"\n",
                "    data = np.matrix([[tp, fp], [fn, tn]])\n",
                "\n",
                "    sns.heatmap(data,annot=True,xticklabels=['Actual Pos', 'Actual Neg']\n",
                "              ,yticklabels=['Pred. Pos', 'Pred. Neg']) "
            ]
        },
        {
            "attachments": {},
            "cell_type": "markdown",
            "metadata": {},
            "source": [
                "### **Question 6:** Compute confusion matrix values and plot\n",
                "\n",
                "Write code below that uses the `plot_confusion_matrix` function to show the number of true positive, true negative, false positive, and false negative predictions made by your classifier. You should store the counts for each of these values in the variables:\n",
                "* `tp`\n",
                "* `fp`\n",
                "* `fn`\n",
                "* `tn` \n",
                "\n",
                "You might find it useful to use named parameters here (i.e. you can call `plot_confusion_matrix(tp=X, fp=Y, fn=A, tn=B)` instead of having to get the order of the parameters correct)"
            ]
        },
        {
            "cell_type": "code",
            "execution_count": 73,
            "metadata": {},
            "outputs": [
                {
                    "data": {
                        "image/png": "[encoded data removed]",
                        "text/plain": "\u003cFigure size 432x288 with 2 Axes\u003e"
                    },
                    "metadata": {
                        "needs_background": "light"
                    },
                    "output_type": "display_data"
                }
            ],
            "source": [
                "### edTest(test_q6_confusion_matrix) ###\n",
                "\n",
                "# TODO Compute the four values tp, fp, fn, tn and plot them using plot_confusion_matrix\n",
                "\n",
                "tp = 0\n",
                "fp = 0\n",
                "fn = 0\n",
                "tn = 0\n",
                "\n",
                "actuals = validation_data['sentiment'].tolist()\n",
                "for i in range(len(actuals)):\n",
                "    actual = actuals[i]\n",
                "    predict = predicts[i]\n",
                "\n",
                "    if actual == +1:\n",
                "        if predict == +1:\n",
                "            tp = tp + 1\n",
                "        else:\n",
                "            fn = fn + 1\n",
                "    else:\n",
                "        if predict == +1:\n",
                "            fp = fp + 1\n",
                "        else:\n",
                "            tn = tn + 1\n",
                "\n",
                "plot_confusion_matrix(tp, fp, fn, tn)"
            ]
        },
        {
            "attachments": {},
            "cell_type": "markdown",
            "metadata": {},
            "source": [
                "## **Question 7 and 8:** Logistic Regression with L2 regularization\n",
                "\n",
                "One of the challenges of creating features from each word is that there are many more features than observations. It is easy to overfit. We will explore the effect of the regularization in this problem.\n",
                "\n",
                "Now that we have written up all the pieces needed for regularized logistic regression, let's explore the benefits of using **L2 regularization** in analyzing sentiment for product reviews. \n",
                "\n",
                "Like in the last assignment, we will train models with various levels of regularization starting with a small amount and then moving to a  large amount. The code here will have some similarities to the code you did in the last assignment, so you will find that to be a useful reference, but this problem will be slightly more complex since we ask you to compute a few values.\n",
                "\n",
                "This code will be counted as two separate questions since you will be computing slightly different values, but we will ask you to compute both of them in the same starter code to reduce code duplication (since the tasks are very similar). \n",
                "\n",
                "We first outline what you should compute for each question and then show some general implementation notes for both problems below. Your task for this problem is to fill out the code inside the loop to compute the values described below.\n",
                "\n",
                "We recommend focusing on the value you need to compute for Q7 and then once you have that working work on the code you need to compute Q8.\n",
                "\n",
                "### **Question 7:** Coefficient Paths\n",
                "For this question we will ask you to compute the coefficent path for each of the features in the model for various values of the regularization constant.\n",
                "\n",
                "For each regularization strength, train a model using that regularization constant and compute table storing the coefficients of each learned predictor. Store the results in a `DataFrame` named `coef_table`.\n",
                "\n",
                "You should end up with an `DataFrame` with column names as `'coefficients \\[L2=1e-02\\]', ... 'coefficients \\[L2=1e+05\\]'`, and a row for each word in `features`. \n",
                "\n",
                "Before the loop, we set up `coef_table` to have the right rows and columns, but your code will need to fill out the rest.\n",
                "\n",
                "### **Question 8:** Train and Validation Accuracies\n",
                "Similar to Q7, we want you to compute the training and validation accuracy for each learned predictor and store that in a `DataFrame` called `accuracies_table`. \n",
                "\n",
                "You should end up with a `DataFrame` with column names `'l2_penalty', 'train_accuracy', 'validation_accuracy'` and a row for each L2 penalty tried. The L2 penaly should be the number (not the column name from Q7) and the accuracy values should be numbers between 0 and 1 for the appropriate accuracy.\n",
                "\n",
                "For this problem, we recommend the approach used in HW2 to build up a list of dictionaries, and then convert that to a `DataFrame` with the values described.\n",
                "\n",
                "### Implementation Details\n",
                "\n",
                "Some important notes about your implementation:\n",
                "* When constructing a `LogisticRegression` object, make sure to use `random_state=1` to get the same results as us. We also want to avoid having an intercept term in this example, so also pass `fit_intercept=False` when constructing the `LogisticRegression` model.\n",
                "* \u003cspan style=\"color:red\"\u003eWhen constructing the LogisticRegression(...) model, the parameter `C` is the **inverse** of the L2 penalty (1 / L2_penalty). \u003c/span\u003e\n",
                "* Q7: To store the results of your predictor's coefficients, you will need to get the values from the `.coef_` property. Since the code for this is a little complex, we give you this line below (assumes your trained model is stored in a variable called `model`):\n",
                "  ```\n",
                "  coef_table[column_name] = model.coef_[0]\n",
                "  ```\n",
                "\n",
                "  Confusingly this grabs all the coefficients and treats them like a list of numbers rather than the 2D array of rows/columns that scikit-learn originally provides.\n",
                "\n",
                "* It is okay if your code prints `ConvergenceWarnings`. This is something you would want to avoid in practice but is okay in our assignment for simplicity.\n",
                "\n",
                "* We recommend just focusing on Q7 at first and getting the code to set up the coefficients table right. Then once that's working, evaluate the models for Q8.\n",
                ""
            ]
        },
        {
            "cell_type": "code",
            "execution_count": 74,
            "metadata": {},
            "outputs": [
                {
                    "name": "stdout",
                    "output_type": "stream",
                    "text": "           word coefficients [L2=1e-02] coefficients [L2=1e+00]  \\\n0          0000                     NaN                     NaN   \n1           002                     NaN                     NaN   \n2           004                     NaN                     NaN   \n3         004oz                     NaN                     NaN   \n4     012months                     NaN                     NaN   \n...         ...                     ...                     ...   \n7620      zicos                     NaN                     NaN   \n7621    zillion                     NaN                     NaN   \n7622     zinger                     NaN                     NaN   \n7623        zip                     NaN                     NaN   \n7624    ziplock                     NaN                     NaN   \n\n     coefficients [L2=4e+00] coefficients [L2=1e+01] coefficients [L2=1e+02]  \\\n0                        NaN                     NaN                     NaN   \n1                        NaN                     NaN                     NaN   \n2                        NaN                     NaN                     NaN   \n3                        NaN                     NaN                     NaN   \n4                        NaN                     NaN                     NaN   \n...                      ...                     ...                     ...   \n7620                     NaN                     NaN                     NaN   \n7621                     NaN                     NaN                     NaN   \n7622                     NaN                     NaN                     NaN   \n7623                     NaN                     NaN                     NaN   \n7624                     NaN                     NaN                     NaN   \n\n     coefficients [L2=1e+03] coefficients [L2=1e+05]  \n0                        NaN                     NaN  \n1                        NaN                     NaN  \n2                        NaN                     NaN  \n3                        NaN                     NaN  \n4                        NaN                     NaN  \n...                      ...                     ...  \n7620                     NaN                     NaN  \n7621                     NaN                     NaN  \n7622                     NaN                     NaN  \n7623                     NaN                     NaN  \n7624                     NaN                     NaN  \n\n[7625 rows x 8 columns]\n"
                },
                {
                    "name": "stderr",
                    "output_type": "stream",
                    "text": "/usr/lib/python3.9/site-packages/sklearn/linear_model/_logistic.py:763: ConvergenceWarning: lbfgs failed to converge (status=1):\nSTOP: TOTAL NO. of ITERATIONS REACHED LIMIT.\n\nIncrease the number of iterations (max_iter) or scale the data as shown in:\n    https://scikit-learn.org/stable/modules/preprocessing.html\nPlease also refer to the documentation for alternative solver options:\n    https://scikit-learn.org/stable/modules/linear_model.html#logistic-regression\n  n_iter_i = _check_optimize_result(\n"
                }
            ],
            "source": [
                "### edTest(test_q7_q8_train_models) ###\n",
                "\n",
                "# TODO Fill in the loop below\n",
                "\n",
                "# Set up the regularization penalities to try\n",
                "l2_penalties = [0.01, 1, 4, 10, 1e2, 1e3, 1e5]\n",
                "l2_penalty_names = [f'coefficients [L2={l2_penalty:.0e}]' \n",
                "                    for l2_penalty in l2_penalties]\n",
                "\n",
                "# Q7: Add the coefficients to this coef_table for each model\n",
                "coef_table = pd.DataFrame(columns=['word'] + l2_penalty_names)\n",
                "coef_table['word'] = features\n",
                "\n",
                "print(coef_table)\n",
                "\n",
                "# Q8: Set up an empty list to store the accuracies (will convert to DataFrame after loop)\n",
                "accuracy_data = []\n",
                "\n",
                "for l2_penalty, l2_penalty_column_name in zip(l2_penalties, l2_penalty_names):\n",
                "    \n",
                "    # TODO(Q7 and Q8): Train the model \n",
                "    sentiment_model = LogisticRegression(penalty='l2', random_state=1, fit_intercept=False, C=1/l2_penalty)\n",
                "    sentiment_model.fit(train_data[features], train_data['sentiment'])\n",
                "    \n",
                "    # TODO(Q7): Save the coefficients in coef_table\n",
                "    coef_table[l2_penalty_column_name] = sentiment_model.coef_[0]\n",
                "\n",
                "    # TODO(Q8): Calculate and save the train and validation accuracies\n",
                "    train_predicts = sentiment_model.predict(train_data[features])\n",
                "    train_accuracy = accuracy_score(train_data['sentiment'], train_predicts)\n",
                "    \n",
                "    validation_predicts = sentiment_model.predict(validation_data[features])\n",
                "    validation_accuracy = accuracy_score(validation_data['sentiment'], validation_predicts)\n",
                "\n",
                "    accuracy_data.append({\n",
                "      'l2_penalty': l2_penalty,\n",
                "      'train_accuracy': train_accuracy,\n",
                "      'validation_accuracy': validation_accuracy,\n",
                "    })\n",
                "\n",
                "accuracies_table = pd.DataFrame(accuracy_data)"
            ]
        },
        {
            "cell_type": "code",
            "execution_count": 75,
            "metadata": {},
            "outputs": [
                {
                    "data": {
                        "text/html": "\u003cdiv\u003e\n\u003cstyle scoped\u003e\n    .dataframe tbody tr th:only-of-type {\n        vertical-align: middle;\n    }\n\n    .dataframe tbody tr th {\n        vertical-align: top;\n    }\n\n    .dataframe thead th {\n        text-align: right;\n    }\n\u003c/style\u003e\n\u003ctable border=\"1\" class=\"dataframe\"\u003e\n  \u003cthead\u003e\n    \u003ctr style=\"text-align: right;\"\u003e\n      \u003cth\u003e\u003c/th\u003e\n      \u003cth\u003eword\u003c/th\u003e\n      \u003cth\u003ecoefficients [L2=1e-02]\u003c/th\u003e\n      \u003cth\u003ecoefficients [L2=1e+00]\u003c/th\u003e\n      \u003cth\u003ecoefficients [L2=4e+00]\u003c/th\u003e\n      \u003cth\u003ecoefficients [L2=1e+01]\u003c/th\u003e\n      \u003cth\u003ecoefficients [L2=1e+02]\u003c/th\u003e\n      \u003cth\u003ecoefficients [L2=1e+03]\u003c/th\u003e\n      \u003cth\u003ecoefficients [L2=1e+05]\u003c/th\u003e\n    \u003c/tr\u003e\n  \u003c/thead\u003e\n  \u003ctbody\u003e\n    \u003ctr\u003e\n      \u003cth\u003e0\u003c/th\u003e\n      \u003ctd\u003e0000\u003c/td\u003e\n      \u003ctd\u003e0.102011\u003c/td\u003e\n      \u003ctd\u003e0.030776\u003c/td\u003e\n      \u003ctd\u003e0.017166\u003c/td\u003e\n      \u003ctd\u003e0.010918\u003c/td\u003e\n      \u003ctd\u003e0.002986\u003c/td\u003e\n      \u003ctd\u003e0.000476\u003c/td\u003e\n      \u003ctd\u003e5.048225e-06\u003c/td\u003e\n    \u003c/tr\u003e\n    \u003ctr\u003e\n      \u003cth\u003e1\u003c/th\u003e\n      \u003ctd\u003e002\u003c/td\u003e\n      \u003ctd\u003e-0.000159\u003c/td\u003e\n      \u003ctd\u003e-0.002044\u003c/td\u003e\n      \u003ctd\u003e-0.002169\u003c/td\u003e\n      \u003ctd\u003e-0.001971\u003c/td\u003e\n      \u003ctd\u003e-0.000744\u003c/td\u003e\n      \u003ctd\u003e-0.000099\u003c/td\u003e\n      \u003ctd\u003e-4.085931e-06\u003c/td\u003e\n    \u003c/tr\u003e\n    \u003ctr\u003e\n      \u003cth\u003e2\u003c/th\u003e\n      \u003ctd\u003e004\u003c/td\u003e\n      \u003ctd\u003e-0.000159\u003c/td\u003e\n      \u003ctd\u003e-0.002044\u003c/td\u003e\n      \u003ctd\u003e-0.002169\u003c/td\u003e\n      \u003ctd\u003e-0.001971\u003c/td\u003e\n      \u003ctd\u003e-0.000744\u003c/td\u003e\n      \u003ctd\u003e-0.000099\u003c/td\u003e\n      \u003ctd\u003e-4.085931e-06\u003c/td\u003e\n    \u003c/tr\u003e\n    \u003ctr\u003e\n      \u003cth\u003e3\u003c/th\u003e\n      \u003ctd\u003e004oz\u003c/td\u003e\n      \u003ctd\u003e-0.000159\u003c/td\u003e\n      \u003ctd\u003e-0.002044\u003c/td\u003e\n      \u003ctd\u003e-0.002169\u003c/td\u003e\n      \u003ctd\u003e-0.001971\u003c/td\u003e\n      \u003ctd\u003e-0.000744\u003c/td\u003e\n      \u003ctd\u003e-0.000099\u003c/td\u003e\n      \u003ctd\u003e-4.085931e-06\u003c/td\u003e\n    \u003c/tr\u003e\n    \u003ctr\u003e\n      \u003cth\u003e4\u003c/th\u003e\n      \u003ctd\u003e012months\u003c/td\u003e\n      \u003ctd\u003e0.000316\u003c/td\u003e\n      \u003ctd\u003e0.001507\u003c/td\u003e\n      \u003ctd\u003e0.001624\u003c/td\u003e\n      \u003ctd\u003e0.001515\u003c/td\u003e\n      \u003ctd\u003e0.001130\u003c/td\u003e\n      \u003ctd\u003e0.000399\u003c/td\u003e\n      \u003ctd\u003e5.052166e-06\u003c/td\u003e\n    \u003c/tr\u003e\n    \u003ctr\u003e\n      \u003cth\u003e...\u003c/th\u003e\n      \u003ctd\u003e...\u003c/td\u003e\n      \u003ctd\u003e...\u003c/td\u003e\n      \u003ctd\u003e...\u003c/td\u003e\n      \u003ctd\u003e...\u003c/td\u003e\n      \u003ctd\u003e...\u003c/td\u003e\n      \u003ctd\u003e...\u003c/td\u003e\n      \u003ctd\u003e...\u003c/td\u003e\n      \u003ctd\u003e...\u003c/td\u003e\n    \u003c/tr\u003e\n    \u003ctr\u003e\n      \u003cth\u003e7620\u003c/th\u003e\n      \u003ctd\u003ezicos\u003c/td\u003e\n      \u003ctd\u003e-0.148951\u003c/td\u003e\n      \u003ctd\u003e-0.055483\u003c/td\u003e\n      \u003ctd\u003e-0.030825\u003c/td\u003e\n      \u003ctd\u003e-0.018646\u003c/td\u003e\n      \u003ctd\u003e-0.003721\u003c/td\u003e\n      \u003ctd\u003e-0.000447\u003c/td\u003e\n      \u003ctd\u003e-4.925747e-06\u003c/td\u003e\n    \u003c/tr\u003e\n    \u003ctr\u003e\n      \u003cth\u003e7621\u003c/th\u003e\n      \u003ctd\u003ezillion\u003c/td\u003e\n      \u003ctd\u003e-0.022145\u003c/td\u003e\n      \u003ctd\u003e-0.037825\u003c/td\u003e\n      \u003ctd\u003e-0.029692\u003c/td\u003e\n      \u003ctd\u003e-0.020864\u003c/td\u003e\n      \u003ctd\u003e-0.004026\u003c/td\u003e\n      \u003ctd\u003e-0.000467\u003c/td\u003e\n      \u003ctd\u003e-4.976193e-06\u003c/td\u003e\n    \u003c/tr\u003e\n    \u003ctr\u003e\n      \u003cth\u003e7622\u003c/th\u003e\n      \u003ctd\u003ezinger\u003c/td\u003e\n      \u003ctd\u003e-0.000154\u003c/td\u003e\n      \u003ctd\u003e-0.003677\u003c/td\u003e\n      \u003ctd\u003e-0.004705\u003c/td\u003e\n      \u003ctd\u003e-0.004577\u003c/td\u003e\n      \u003ctd\u003e-0.002492\u003c/td\u003e\n      \u003ctd\u003e-0.000412\u003c/td\u003e\n      \u003ctd\u003e-4.895835e-06\u003c/td\u003e\n    \u003c/tr\u003e\n    \u003ctr\u003e\n      \u003cth\u003e7623\u003c/th\u003e\n      \u003ctd\u003ezip\u003c/td\u003e\n      \u003ctd\u003e0.091489\u003c/td\u003e\n      \u003ctd\u003e0.052182\u003c/td\u003e\n      \u003ctd\u003e0.033315\u003c/td\u003e\n      \u003ctd\u003e0.022238\u003c/td\u003e\n      \u003ctd\u003e0.005981\u003c/td\u003e\n      \u003ctd\u003e0.001038\u003c/td\u003e\n      \u003ctd\u003e1.028551e-05\u003c/td\u003e\n    \u003c/tr\u003e\n    \u003ctr\u003e\n      \u003cth\u003e7624\u003c/th\u003e\n      \u003ctd\u003eziplock\u003c/td\u003e\n      \u003ctd\u003e0.119430\u003c/td\u003e\n      \u003ctd\u003e0.035636\u003c/td\u003e\n      \u003ctd\u003e0.020196\u003c/td\u003e\n      \u003ctd\u003e0.012145\u003c/td\u003e\n      \u003ctd\u003e0.002333\u003c/td\u003e\n      \u003ctd\u003e0.000226\u003c/td\u003e\n      \u003ctd\u003e2.710799e-07\u003c/td\u003e\n    \u003c/tr\u003e\n  \u003c/tbody\u003e\n\u003c/table\u003e\n\u003cp\u003e7625 rows × 8 columns\u003c/p\u003e\n\u003c/div\u003e",
                        "text/plain": "           word  coefficients [L2=1e-02]  coefficients [L2=1e+00]  \\\n0          0000                 0.102011                 0.030776   \n1           002                -0.000159                -0.002044   \n2           004                -0.000159                -0.002044   \n3         004oz                -0.000159                -0.002044   \n4     012months                 0.000316                 0.001507   \n...         ...                      ...                      ...   \n7620      zicos                -0.148951                -0.055483   \n7621    zillion                -0.022145                -0.037825   \n7622     zinger                -0.000154                -0.003677   \n7623        zip                 0.091489                 0.052182   \n7624    ziplock                 0.119430                 0.035636   \n\n      coefficients [L2=4e+00]  coefficients [L2=1e+01]  \\\n0                    0.017166                 0.010918   \n1                   -0.002169                -0.001971   \n2                   -0.002169                -0.001971   \n3                   -0.002169                -0.001971   \n4                    0.001624                 0.001515   \n...                       ...                      ...   \n7620                -0.030825                -0.018646   \n7621                -0.029692                -0.020864   \n7622                -0.004705                -0.004577   \n7623                 0.033315                 0.022238   \n7624                 0.020196                 0.012145   \n\n      coefficients [L2=1e+02]  coefficients [L2=1e+03]  \\\n0                    0.002986                 0.000476   \n1                   -0.000744                -0.000099   \n2                   -0.000744                -0.000099   \n3                   -0.000744                -0.000099   \n4                    0.001130                 0.000399   \n...                       ...                      ...   \n7620                -0.003721                -0.000447   \n7621                -0.004026                -0.000467   \n7622                -0.002492                -0.000412   \n7623                 0.005981                 0.001038   \n7624                 0.002333                 0.000226   \n\n      coefficients [L2=1e+05]  \n0                5.048225e-06  \n1               -4.085931e-06  \n2               -4.085931e-06  \n3               -4.085931e-06  \n4                5.052166e-06  \n...                       ...  \n7620            -4.925747e-06  \n7621            -4.976193e-06  \n7622            -4.895835e-06  \n7623             1.028551e-05  \n7624             2.710799e-07  \n\n[7625 rows x 8 columns]"
                    },
                    "execution_count": 75,
                    "metadata": {},
                    "output_type": "execute_result"
                }
            ],
            "source": [
                "# Look at coef_table\n",
                "coef_table"
            ]
        },
        {
            "cell_type": "code",
            "execution_count": 76,
            "metadata": {},
            "outputs": [
                {
                    "data": {
                        "text/html": "\u003cdiv\u003e\n\u003cstyle scoped\u003e\n    .dataframe tbody tr th:only-of-type {\n        vertical-align: middle;\n    }\n\n    .dataframe tbody tr th {\n        vertical-align: top;\n    }\n\n    .dataframe thead th {\n        text-align: right;\n    }\n\u003c/style\u003e\n\u003ctable border=\"1\" class=\"dataframe\"\u003e\n  \u003cthead\u003e\n    \u003ctr style=\"text-align: right;\"\u003e\n      \u003cth\u003e\u003c/th\u003e\n      \u003cth\u003el2_penalty\u003c/th\u003e\n      \u003cth\u003etrain_accuracy\u003c/th\u003e\n      \u003cth\u003evalidation_accuracy\u003c/th\u003e\n    \u003c/tr\u003e\n  \u003c/thead\u003e\n  \u003ctbody\u003e\n    \u003ctr\u003e\n      \u003cth\u003e0\u003c/th\u003e\n      \u003ctd\u003e0.01\u003c/td\u003e\n      \u003ctd\u003e1.000000\u003c/td\u003e\n      \u003ctd\u003e0.674157\u003c/td\u003e\n    \u003c/tr\u003e\n    \u003ctr\u003e\n      \u003cth\u003e1\u003c/th\u003e\n      \u003ctd\u003e1.00\u003c/td\u003e\n      \u003ctd\u003e0.998594\u003c/td\u003e\n      \u003ctd\u003e0.685393\u003c/td\u003e\n    \u003c/tr\u003e\n    \u003ctr\u003e\n      \u003cth\u003e2\u003c/th\u003e\n      \u003ctd\u003e4.00\u003c/td\u003e\n      \u003ctd\u003e0.995781\u003c/td\u003e\n      \u003ctd\u003e0.685393\u003c/td\u003e\n    \u003c/tr\u003e\n    \u003ctr\u003e\n      \u003cth\u003e3\u003c/th\u003e\n      \u003ctd\u003e10.00\u003c/td\u003e\n      \u003ctd\u003e0.976090\u003c/td\u003e\n      \u003ctd\u003e0.696629\u003c/td\u003e\n    \u003c/tr\u003e\n    \u003ctr\u003e\n      \u003cth\u003e4\u003c/th\u003e\n      \u003ctd\u003e100.00\u003c/td\u003e\n      \u003ctd\u003e0.895921\u003c/td\u003e\n      \u003ctd\u003e0.719101\u003c/td\u003e\n    \u003c/tr\u003e\n    \u003ctr\u003e\n      \u003cth\u003e5\u003c/th\u003e\n      \u003ctd\u003e1000.00\u003c/td\u003e\n      \u003ctd\u003e0.734177\u003c/td\u003e\n      \u003ctd\u003e0.674157\u003c/td\u003e\n    \u003c/tr\u003e\n    \u003ctr\u003e\n      \u003cth\u003e6\u003c/th\u003e\n      \u003ctd\u003e100000.00\u003c/td\u003e\n      \u003ctd\u003e0.502110\u003c/td\u003e\n      \u003ctd\u003e0.516854\u003c/td\u003e\n    \u003c/tr\u003e\n  \u003c/tbody\u003e\n\u003c/table\u003e\n\u003c/div\u003e",
                        "text/plain": "   l2_penalty  train_accuracy  validation_accuracy\n0        0.01        1.000000             0.674157\n1        1.00        0.998594             0.685393\n2        4.00        0.995781             0.685393\n3       10.00        0.976090             0.696629\n4      100.00        0.895921             0.719101\n5     1000.00        0.734177             0.674157\n6   100000.00        0.502110             0.516854"
                    },
                    "execution_count": 76,
                    "metadata": {},
                    "output_type": "execute_result"
                }
            ],
            "source": [
                "# Look at accuracies_table\n",
                "accuracies_table"
            ]
        },
        {
            "attachments": {},
            "cell_type": "markdown",
            "metadata": {},
            "source": [
                "## **Question 9:** Inspect Coefficients\n",
                "\n",
                "We'll now look at the **coefficients** for the model that were trained above. We will create a table of features and learned coefficients associated with each of the different L2 penalty values.\n",
                "\n",
                "Using **the coefficients trained with L2 penalty 1**, find the 5 most positive words (with largest positive coefficients). Save them to `positive_words`. Similarly, find the 5 most negative words (with largest negative coefficients) and save them to `positive_words`. The result should be the `'word'` column for the these rows. \n",
                "\n",
                "To be specific, the type of the value we are looking for is a `Series` in `pandas` which is the type of a single row or column in a `DataFrame`. When you have a `DataFrame`, it is a structure with rows and columns. When you access a single column as in `df[column_name]`, this returns a `Series` representing that one column. \n",
                "\n",
                "This means your result for each one of these variables should be a `Series` of length 5 for the respective words.\n",
                "\n",
                "\n",
                "*Hint:* You can use the `.nlargest()` and `.nsmallest()` method on an DataFrame to find the top `n` rows sorted according to the value of a specified column."
            ]
        },
        {
            "cell_type": "code",
            "execution_count": 77,
            "metadata": {},
            "outputs": [],
            "source": [
                "### edTest(test_q9_most_positive_negative) ###\n",
                "\n",
                "# TODO Compute words with the 5 largest coefficients and 5 smallest coefficients\n",
                "\n",
                "positive5 = coef_table.nlargest(5, l2_penalty_names[1])\n",
                "positive_words = positive5['word']\n",
                "\n",
                "negtive5 = coef_table.nsmallest(5, l2_penalty_names[1])\n",
                "negative_words = negtive5['word']\n",
                ""
            ]
        },
        {
            "attachments": {},
            "cell_type": "markdown",
            "metadata": {},
            "source": [
                "Let us observe the effect of increasing L2 penalty on the 10 words just selected. We provide you with a utility function to  plot the coefficient path."
            ]
        },
        {
            "cell_type": "code",
            "execution_count": 78,
            "metadata": {},
            "outputs": [
                {
                    "data": {
                        "image/png": "[encoded data removed]",
                        "text/plain": "\u003cFigure size 720x432 with 1 Axes\u003e"
                    },
                    "metadata": {
                        "needs_background": "light"
                    },
                    "output_type": "display_data"
                }
            ],
            "source": [
                "def make_coefficient_plot(table, positive_words, negative_words, l2_penalty_list):\n",
                "    def get_cmap_value(cmap, i, total_words):\n",
                "        \"\"\"\n",
                "        Computes a nice scaling of from i=0 to i=total_words - 1\n",
                "        for the given cmap\n",
                "        \"\"\"\n",
                "        return cmap(0.8 * ((i + 1) / (total_words * 1.2) + 0.15))\n",
                "\n",
                "\n",
                "    def plot_coeffs_for_words(ax, words, cmap):\n",
                "        \"\"\"\n",
                "        Given an axes to plot on and a list of words and a cmap,\n",
                "        plots the coefficient paths for each word in words\n",
                "        \"\"\"\n",
                "        words_df = table[table['word'].isin(words)]\n",
                "        words_df = words_df.reset_index(drop=True)  # To make indices sequential\n",
                "\n",
                "        for i, row in words_df.iterrows():\n",
                "            color = get_cmap_value(cmap, i, len(words))\n",
                "            ax.plot(xx, row[row.index != 'word'], '-',\n",
                "                    label=row['word'], linewidth=4.0, color=color)\n",
                "\n",
                "    # Make a canvas to draw on\n",
                "    fig, ax = plt.subplots(1, figsize=(10, 6))\n",
                "   \n",
                "    # Set up the xs to plot and draw a line for y=0\n",
                "    xx = l2_penalty_list\n",
                "    ax.plot(xx, [0.] * len(xx), '--', linewidth=1, color='k')\n",
                "\n",
                "    # Plot the positive and negative coefficient paths\n",
                "    cmap_positive = plt.get_cmap('Reds')\n",
                "    cmap_negative = plt.get_cmap('Blues')\n",
                "    plot_coeffs_for_words(ax, positive_words, cmap_positive)\n",
                "    plot_coeffs_for_words(ax, negative_words, cmap_negative)\n",
                "\n",
                "    # Set up axis labels, scale, and legend  \n",
                "    ax.legend(loc='best', ncol=2, prop={'size':16}, columnspacing=0.5 )\n",
                "    ax.set_title('Coefficient path')\n",
                "    ax.set_xlabel('L2 penalty ($\\lambda$)')\n",
                "    ax.set_ylabel('Coefficient value')\n",
                "    ax.set_xscale('log')\n",
                "\n",
                "\n",
                "make_coefficient_plot(coef_table, positive_words, negative_words, l2_penalty_list=l2_penalties)"
            ]
        }
    ]
}
