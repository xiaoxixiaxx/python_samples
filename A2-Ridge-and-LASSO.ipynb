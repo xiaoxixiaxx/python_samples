{
    "metadata": {
        "kernelspec": {
            "name": "python3",
            "display_name": "Python 3",
            "language": "python"
        }
    },
    "nbformat": 4,
    "nbformat_minor": 0,
    "cells": [
        {
            "attachments": {},
            "cell_type": "markdown",
            "metadata": {},
            "source": [
                "# Assignment 2 - Ridge and LASSO Regression\n",
                "\n",
                "### Due: Tuesday, April 13th, 9:00 pm. The Coding portion is submitted on EdStem and the Concept portion is submitted on Gradescope.\n",
                "\n",
                "In this assignment we'll look at the affect of using regularization on linear regression models that we train. You will write code to train models that use different regularizers and different penalties and to analyze how this affects the model.\n",
                "\n",
                "\n",
                "Fill in the cells provided marked `TODO` with code to answer the questions. Answers should do the computation stated rather than writing in hard-coded values. So for example, if a problem asks you to compute the average age of people in a dataset, you should be writing Python code in this notebook to do the computation instead of plugging it into some calculator and saving the hard-coded answer in the variable. In other words, we should be able to run your code on a smaller/larger dataset and get correct answers for those datasets with your code.\n",
                "\n",
                "It is generally a good idea to restart the kernel and run all cells (especially before turning it in) to make sure your code runs correctly. Answer the questions on Gradescope and make sure to download this file once you've finished the assignment and upload it to Canvas as well.\n",
                "\n",
                "Note, you are not allowed to share any portions of this notebook outside of this class.\n",
                "\n",
                "\u003e Copyright ©2021 Emily Fox and Hunter Schafer.  All rights reserved.  Permission is hereby granted to students registered for University of Washington CSE/STAT 416 for use solely during Spring Quarter 2021 for purposes of the course.  No other use, copying, distribution, or modification is permitted without prior written consent. Copyrights for third-party components of this work must be honored.  Instructors interested in reusing these course materials should contact the author.\n",
                "\n",
                "---"
            ]
        },
        {
            "cell_type": "code",
            "execution_count": 570,
            "metadata": {},
            "outputs": [],
            "source": [
                "# Conventionally people rename these common imports for brevity\n",
                "import pandas as pd\n",
                "import numpy as np\n",
                "import matplotlib.pyplot as plt\n",
                "\n",
                "# Magic command to make the plots appear in-line (it's actually called a \"magic command\")\n",
                "%matplotlib inline"
            ]
        },
        {
            "attachments": {},
            "cell_type": "markdown",
            "metadata": {},
            "source": [
                "For this assignment, we will only be using a very small subset of the data to do our analysis. This is not something you would usually do in practice, but is something we do for this assignment to simplify this complexity of this dataset. The data is pretty noisy and to get meaningful results to demonstrate the theoretical behavior, you would need to use a much more complicated set of features that would be a bit more tedious to work with.\n",
                "\n",
                "We use a parameter called `random_state` to control the randomness in loading the data so you don't get wildly different results than us just to how the data is sampled."
            ]
        },
        {
            "cell_type": "code",
            "execution_count": 571,
            "metadata": {},
            "outputs": [
                {
                    "name": "stdout",
                    "output_type": "stream",
                    "text": "Number of points: 216\n"
                },
                {
                    "data": {
                        "text/html": "\u003cdiv\u003e\n\u003cstyle scoped\u003e\n    .dataframe tbody tr th:only-of-type {\n        vertical-align: middle;\n    }\n\n    .dataframe tbody tr th {\n        vertical-align: top;\n    }\n\n    .dataframe thead th {\n        text-align: right;\n    }\n\u003c/style\u003e\n\u003ctable border=\"1\" class=\"dataframe\"\u003e\n  \u003cthead\u003e\n    \u003ctr style=\"text-align: right;\"\u003e\n      \u003cth\u003e\u003c/th\u003e\n      \u003cth\u003eid\u003c/th\u003e\n      \u003cth\u003edate\u003c/th\u003e\n      \u003cth\u003eprice\u003c/th\u003e\n      \u003cth\u003ebedrooms\u003c/th\u003e\n      \u003cth\u003ebathrooms\u003c/th\u003e\n      \u003cth\u003esqft_living\u003c/th\u003e\n      \u003cth\u003esqft_lot\u003c/th\u003e\n      \u003cth\u003efloors\u003c/th\u003e\n      \u003cth\u003ewaterfront\u003c/th\u003e\n      \u003cth\u003eview\u003c/th\u003e\n      \u003cth\u003e...\u003c/th\u003e\n      \u003cth\u003egrade\u003c/th\u003e\n      \u003cth\u003esqft_above\u003c/th\u003e\n      \u003cth\u003esqft_basement\u003c/th\u003e\n      \u003cth\u003eyr_built\u003c/th\u003e\n      \u003cth\u003eyr_renovated\u003c/th\u003e\n      \u003cth\u003ezipcode\u003c/th\u003e\n      \u003cth\u003elat\u003c/th\u003e\n      \u003cth\u003elong\u003c/th\u003e\n      \u003cth\u003esqft_living15\u003c/th\u003e\n      \u003cth\u003esqft_lot15\u003c/th\u003e\n    \u003c/tr\u003e\n  \u003c/thead\u003e\n  \u003ctbody\u003e\n    \u003ctr\u003e\n      \u003cth\u003e17384\u003c/th\u003e\n      \u003ctd\u003e1453602313\u003c/td\u003e\n      \u003ctd\u003e20141029T000000\u003c/td\u003e\n      \u003ctd\u003e297000\u003c/td\u003e\n      \u003ctd\u003e2\u003c/td\u003e\n      \u003ctd\u003e1.50\u003c/td\u003e\n      \u003ctd\u003e1430\u003c/td\u003e\n      \u003ctd\u003e1650\u003c/td\u003e\n      \u003ctd\u003e3.0\u003c/td\u003e\n      \u003ctd\u003e0\u003c/td\u003e\n      \u003ctd\u003e0\u003c/td\u003e\n      \u003ctd\u003e...\u003c/td\u003e\n      \u003ctd\u003e7\u003c/td\u003e\n      \u003ctd\u003e1430\u003c/td\u003e\n      \u003ctd\u003e0\u003c/td\u003e\n      \u003ctd\u003e1999\u003c/td\u003e\n      \u003ctd\u003e0\u003c/td\u003e\n      \u003ctd\u003e98125\u003c/td\u003e\n      \u003ctd\u003e47.7222\u003c/td\u003e\n      \u003ctd\u003e-122.290\u003c/td\u003e\n      \u003ctd\u003e1430\u003c/td\u003e\n      \u003ctd\u003e1650\u003c/td\u003e\n    \u003c/tr\u003e\n    \u003ctr\u003e\n      \u003cth\u003e722\u003c/th\u003e\n      \u003ctd\u003e2225059214\u003c/td\u003e\n      \u003ctd\u003e20140808T000000\u003c/td\u003e\n      \u003ctd\u003e1578000\u003c/td\u003e\n      \u003ctd\u003e4\u003c/td\u003e\n      \u003ctd\u003e3.25\u003c/td\u003e\n      \u003ctd\u003e4670\u003c/td\u003e\n      \u003ctd\u003e51836\u003c/td\u003e\n      \u003ctd\u003e2.0\u003c/td\u003e\n      \u003ctd\u003e0\u003c/td\u003e\n      \u003ctd\u003e0\u003c/td\u003e\n      \u003ctd\u003e...\u003c/td\u003e\n      \u003ctd\u003e12\u003c/td\u003e\n      \u003ctd\u003e4670\u003c/td\u003e\n      \u003ctd\u003e0\u003c/td\u003e\n      \u003ctd\u003e1988\u003c/td\u003e\n      \u003ctd\u003e0\u003c/td\u003e\n      \u003ctd\u003e98005\u003c/td\u003e\n      \u003ctd\u003e47.6350\u003c/td\u003e\n      \u003ctd\u003e-122.164\u003c/td\u003e\n      \u003ctd\u003e4230\u003c/td\u003e\n      \u003ctd\u003e41075\u003c/td\u003e\n    \u003c/tr\u003e\n    \u003ctr\u003e\n      \u003cth\u003e2680\u003c/th\u003e\n      \u003ctd\u003e2768000270\u003c/td\u003e\n      \u003ctd\u003e20140625T000000\u003c/td\u003e\n      \u003ctd\u003e562100\u003c/td\u003e\n      \u003ctd\u003e2\u003c/td\u003e\n      \u003ctd\u003e0.75\u003c/td\u003e\n      \u003ctd\u003e1440\u003c/td\u003e\n      \u003ctd\u003e3700\u003c/td\u003e\n      \u003ctd\u003e1.0\u003c/td\u003e\n      \u003ctd\u003e0\u003c/td\u003e\n      \u003ctd\u003e0\u003c/td\u003e\n      \u003ctd\u003e...\u003c/td\u003e\n      \u003ctd\u003e7\u003c/td\u003e\n      \u003ctd\u003e1200\u003c/td\u003e\n      \u003ctd\u003e240\u003c/td\u003e\n      \u003ctd\u003e1914\u003c/td\u003e\n      \u003ctd\u003e0\u003c/td\u003e\n      \u003ctd\u003e98107\u003c/td\u003e\n      \u003ctd\u003e47.6707\u003c/td\u003e\n      \u003ctd\u003e-122.364\u003c/td\u003e\n      \u003ctd\u003e1440\u003c/td\u003e\n      \u003ctd\u003e4300\u003c/td\u003e\n    \u003c/tr\u003e\n    \u003ctr\u003e\n      \u003cth\u003e18754\u003c/th\u003e\n      \u003ctd\u003e6819100040\u003c/td\u003e\n      \u003ctd\u003e20140624T000000\u003c/td\u003e\n      \u003ctd\u003e631500\u003c/td\u003e\n      \u003ctd\u003e2\u003c/td\u003e\n      \u003ctd\u003e1.00\u003c/td\u003e\n      \u003ctd\u003e1130\u003c/td\u003e\n      \u003ctd\u003e2640\u003c/td\u003e\n      \u003ctd\u003e1.0\u003c/td\u003e\n      \u003ctd\u003e0\u003c/td\u003e\n      \u003ctd\u003e0\u003c/td\u003e\n      \u003ctd\u003e...\u003c/td\u003e\n      \u003ctd\u003e8\u003c/td\u003e\n      \u003ctd\u003e1130\u003c/td\u003e\n      \u003ctd\u003e0\u003c/td\u003e\n      \u003ctd\u003e1927\u003c/td\u003e\n      \u003ctd\u003e0\u003c/td\u003e\n      \u003ctd\u003e98109\u003c/td\u003e\n      \u003ctd\u003e47.6438\u003c/td\u003e\n      \u003ctd\u003e-122.357\u003c/td\u003e\n      \u003ctd\u003e1680\u003c/td\u003e\n      \u003ctd\u003e3200\u003c/td\u003e\n    \u003c/tr\u003e\n    \u003ctr\u003e\n      \u003cth\u003e14554\u003c/th\u003e\n      \u003ctd\u003e4027700666\u003c/td\u003e\n      \u003ctd\u003e20150426T000000\u003c/td\u003e\n      \u003ctd\u003e780000\u003c/td\u003e\n      \u003ctd\u003e4\u003c/td\u003e\n      \u003ctd\u003e2.50\u003c/td\u003e\n      \u003ctd\u003e3180\u003c/td\u003e\n      \u003ctd\u003e9603\u003c/td\u003e\n      \u003ctd\u003e2.0\u003c/td\u003e\n      \u003ctd\u003e0\u003c/td\u003e\n      \u003ctd\u003e2\u003c/td\u003e\n      \u003ctd\u003e...\u003c/td\u003e\n      \u003ctd\u003e9\u003c/td\u003e\n      \u003ctd\u003e3180\u003c/td\u003e\n      \u003ctd\u003e0\u003c/td\u003e\n      \u003ctd\u003e2002\u003c/td\u003e\n      \u003ctd\u003e0\u003c/td\u003e\n      \u003ctd\u003e98155\u003c/td\u003e\n      \u003ctd\u003e47.7717\u003c/td\u003e\n      \u003ctd\u003e-122.277\u003c/td\u003e\n      \u003ctd\u003e2440\u003c/td\u003e\n      \u003ctd\u003e15261\u003c/td\u003e\n    \u003c/tr\u003e\n  \u003c/tbody\u003e\n\u003c/table\u003e\n\u003cp\u003e5 rows × 21 columns\u003c/p\u003e\n\u003c/div\u003e",
                        "text/plain": "               id             date    price  bedrooms  bathrooms  sqft_living  \\\n17384  1453602313  20141029T000000   297000         2       1.50         1430   \n722    2225059214  20140808T000000  1578000         4       3.25         4670   \n2680   2768000270  20140625T000000   562100         2       0.75         1440   \n18754  6819100040  20140624T000000   631500         2       1.00         1130   \n14554  4027700666  20150426T000000   780000         4       2.50         3180   \n\n       sqft_lot  floors  waterfront  view  ...  grade  sqft_above  \\\n17384      1650     3.0           0     0  ...      7        1430   \n722       51836     2.0           0     0  ...     12        4670   \n2680       3700     1.0           0     0  ...      7        1200   \n18754      2640     1.0           0     0  ...      8        1130   \n14554      9603     2.0           0     2  ...      9        3180   \n\n       sqft_basement  yr_built  yr_renovated  zipcode      lat     long  \\\n17384              0      1999             0    98125  47.7222 -122.290   \n722                0      1988             0    98005  47.6350 -122.164   \n2680             240      1914             0    98107  47.6707 -122.364   \n18754              0      1927             0    98109  47.6438 -122.357   \n14554              0      2002             0    98155  47.7717 -122.277   \n\n       sqft_living15  sqft_lot15  \n17384           1430        1650  \n722             4230       41075  \n2680            1440        4300  \n18754           1680        3200  \n14554           2440       15261  \n\n[5 rows x 21 columns]"
                    },
                    "execution_count": 571,
                    "metadata": {},
                    "output_type": "execute_result"
                }
            ],
            "source": [
                "sales = pd.read_csv('home_data.csv') \n",
                "\n",
                "# Selects 1% of the data\n",
                "sales = sales.sample(frac=0.01, random_state=0) \n",
                "\n",
                "print(f'Number of points: {len(sales)}')\n",
                "sales.head()"
            ]
        },
        {
            "attachments": {},
            "cell_type": "markdown",
            "metadata": {},
            "source": [
                "## Q1 - Feature Engineering\n",
                "First, we do a bit of feature engineering by creating features that represent the squares of each feature and the square root of each feature. One benefit of using regularization is you can include more features than necessary and you don't have to be as worried about overfitting since the model is regularized.\n",
                "\n",
                "In the following cell, complete the code inside the loop to compute the square of each feature the the square root of each feature.\n",
                "\n",
                "*Note: For this problem, we will make the correctness autograder test public to help avoid downstream issues.*"
            ]
        },
        {
            "cell_type": "code",
            "execution_count": 572,
            "metadata": {},
            "outputs": [
                {
                    "data": {
                        "text/html": "\u003cdiv\u003e\n\u003cstyle scoped\u003e\n    .dataframe tbody tr th:only-of-type {\n        vertical-align: middle;\n    }\n\n    .dataframe tbody tr th {\n        vertical-align: top;\n    }\n\n    .dataframe thead th {\n        text-align: right;\n    }\n\u003c/style\u003e\n\u003ctable border=\"1\" class=\"dataframe\"\u003e\n  \u003cthead\u003e\n    \u003ctr style=\"text-align: right;\"\u003e\n      \u003cth\u003e\u003c/th\u003e\n      \u003cth\u003ebedrooms\u003c/th\u003e\n      \u003cth\u003ebedrooms_square\u003c/th\u003e\n      \u003cth\u003ebedrooms_sqrt\u003c/th\u003e\n      \u003cth\u003ebathrooms\u003c/th\u003e\n      \u003cth\u003ebathrooms_square\u003c/th\u003e\n      \u003cth\u003ebathrooms_sqrt\u003c/th\u003e\n      \u003cth\u003esqft_living\u003c/th\u003e\n      \u003cth\u003esqft_living_square\u003c/th\u003e\n      \u003cth\u003esqft_living_sqrt\u003c/th\u003e\n      \u003cth\u003esqft_lot\u003c/th\u003e\n      \u003cth\u003e...\u003c/th\u003e\n      \u003cth\u003esqft_above_sqrt\u003c/th\u003e\n      \u003cth\u003esqft_basement\u003c/th\u003e\n      \u003cth\u003esqft_basement_square\u003c/th\u003e\n      \u003cth\u003esqft_basement_sqrt\u003c/th\u003e\n      \u003cth\u003eyr_built\u003c/th\u003e\n      \u003cth\u003eyr_built_square\u003c/th\u003e\n      \u003cth\u003eyr_built_sqrt\u003c/th\u003e\n      \u003cth\u003eyr_renovated\u003c/th\u003e\n      \u003cth\u003eyr_renovated_square\u003c/th\u003e\n      \u003cth\u003eyr_renovated_sqrt\u003c/th\u003e\n    \u003c/tr\u003e\n  \u003c/thead\u003e\n  \u003ctbody\u003e\n    \u003ctr\u003e\n      \u003cth\u003e17384\u003c/th\u003e\n      \u003ctd\u003e2\u003c/td\u003e\n      \u003ctd\u003e4\u003c/td\u003e\n      \u003ctd\u003e1.414214\u003c/td\u003e\n      \u003ctd\u003e1.50\u003c/td\u003e\n      \u003ctd\u003e2.2500\u003c/td\u003e\n      \u003ctd\u003e1.224745\u003c/td\u003e\n      \u003ctd\u003e1430\u003c/td\u003e\n      \u003ctd\u003e2044900\u003c/td\u003e\n      \u003ctd\u003e37.815341\u003c/td\u003e\n      \u003ctd\u003e1650\u003c/td\u003e\n      \u003ctd\u003e...\u003c/td\u003e\n      \u003ctd\u003e37.815341\u003c/td\u003e\n      \u003ctd\u003e0\u003c/td\u003e\n      \u003ctd\u003e0\u003c/td\u003e\n      \u003ctd\u003e0.000000\u003c/td\u003e\n      \u003ctd\u003e1999\u003c/td\u003e\n      \u003ctd\u003e3996001\u003c/td\u003e\n      \u003ctd\u003e44.710178\u003c/td\u003e\n      \u003ctd\u003e0\u003c/td\u003e\n      \u003ctd\u003e0\u003c/td\u003e\n      \u003ctd\u003e0.0\u003c/td\u003e\n    \u003c/tr\u003e\n    \u003ctr\u003e\n      \u003cth\u003e722\u003c/th\u003e\n      \u003ctd\u003e4\u003c/td\u003e\n      \u003ctd\u003e16\u003c/td\u003e\n      \u003ctd\u003e2.000000\u003c/td\u003e\n      \u003ctd\u003e3.25\u003c/td\u003e\n      \u003ctd\u003e10.5625\u003c/td\u003e\n      \u003ctd\u003e1.802776\u003c/td\u003e\n      \u003ctd\u003e4670\u003c/td\u003e\n      \u003ctd\u003e21808900\u003c/td\u003e\n      \u003ctd\u003e68.337398\u003c/td\u003e\n      \u003ctd\u003e51836\u003c/td\u003e\n      \u003ctd\u003e...\u003c/td\u003e\n      \u003ctd\u003e68.337398\u003c/td\u003e\n      \u003ctd\u003e0\u003c/td\u003e\n      \u003ctd\u003e0\u003c/td\u003e\n      \u003ctd\u003e0.000000\u003c/td\u003e\n      \u003ctd\u003e1988\u003c/td\u003e\n      \u003ctd\u003e3952144\u003c/td\u003e\n      \u003ctd\u003e44.586994\u003c/td\u003e\n      \u003ctd\u003e0\u003c/td\u003e\n      \u003ctd\u003e0\u003c/td\u003e\n      \u003ctd\u003e0.0\u003c/td\u003e\n    \u003c/tr\u003e\n    \u003ctr\u003e\n      \u003cth\u003e2680\u003c/th\u003e\n      \u003ctd\u003e2\u003c/td\u003e\n      \u003ctd\u003e4\u003c/td\u003e\n      \u003ctd\u003e1.414214\u003c/td\u003e\n      \u003ctd\u003e0.75\u003c/td\u003e\n      \u003ctd\u003e0.5625\u003c/td\u003e\n      \u003ctd\u003e0.866025\u003c/td\u003e\n      \u003ctd\u003e1440\u003c/td\u003e\n      \u003ctd\u003e2073600\u003c/td\u003e\n      \u003ctd\u003e37.947332\u003c/td\u003e\n      \u003ctd\u003e3700\u003c/td\u003e\n      \u003ctd\u003e...\u003c/td\u003e\n      \u003ctd\u003e34.641016\u003c/td\u003e\n      \u003ctd\u003e240\u003c/td\u003e\n      \u003ctd\u003e57600\u003c/td\u003e\n      \u003ctd\u003e15.491933\u003c/td\u003e\n      \u003ctd\u003e1914\u003c/td\u003e\n      \u003ctd\u003e3663396\u003c/td\u003e\n      \u003ctd\u003e43.749286\u003c/td\u003e\n      \u003ctd\u003e0\u003c/td\u003e\n      \u003ctd\u003e0\u003c/td\u003e\n      \u003ctd\u003e0.0\u003c/td\u003e\n    \u003c/tr\u003e\n    \u003ctr\u003e\n      \u003cth\u003e18754\u003c/th\u003e\n      \u003ctd\u003e2\u003c/td\u003e\n      \u003ctd\u003e4\u003c/td\u003e\n      \u003ctd\u003e1.414214\u003c/td\u003e\n      \u003ctd\u003e1.00\u003c/td\u003e\n      \u003ctd\u003e1.0000\u003c/td\u003e\n      \u003ctd\u003e1.000000\u003c/td\u003e\n      \u003ctd\u003e1130\u003c/td\u003e\n      \u003ctd\u003e1276900\u003c/td\u003e\n      \u003ctd\u003e33.615473\u003c/td\u003e\n      \u003ctd\u003e2640\u003c/td\u003e\n      \u003ctd\u003e...\u003c/td\u003e\n      \u003ctd\u003e33.615473\u003c/td\u003e\n      \u003ctd\u003e0\u003c/td\u003e\n      \u003ctd\u003e0\u003c/td\u003e\n      \u003ctd\u003e0.000000\u003c/td\u003e\n      \u003ctd\u003e1927\u003c/td\u003e\n      \u003ctd\u003e3713329\u003c/td\u003e\n      \u003ctd\u003e43.897608\u003c/td\u003e\n      \u003ctd\u003e0\u003c/td\u003e\n      \u003ctd\u003e0\u003c/td\u003e\n      \u003ctd\u003e0.0\u003c/td\u003e\n    \u003c/tr\u003e\n    \u003ctr\u003e\n      \u003cth\u003e14554\u003c/th\u003e\n      \u003ctd\u003e4\u003c/td\u003e\n      \u003ctd\u003e16\u003c/td\u003e\n      \u003ctd\u003e2.000000\u003c/td\u003e\n      \u003ctd\u003e2.50\u003c/td\u003e\n      \u003ctd\u003e6.2500\u003c/td\u003e\n      \u003ctd\u003e1.581139\u003c/td\u003e\n      \u003ctd\u003e3180\u003c/td\u003e\n      \u003ctd\u003e10112400\u003c/td\u003e\n      \u003ctd\u003e56.391489\u003c/td\u003e\n      \u003ctd\u003e9603\u003c/td\u003e\n      \u003ctd\u003e...\u003c/td\u003e\n      \u003ctd\u003e56.391489\u003c/td\u003e\n      \u003ctd\u003e0\u003c/td\u003e\n      \u003ctd\u003e0\u003c/td\u003e\n      \u003ctd\u003e0.000000\u003c/td\u003e\n      \u003ctd\u003e2002\u003c/td\u003e\n      \u003ctd\u003e4008004\u003c/td\u003e\n      \u003ctd\u003e44.743715\u003c/td\u003e\n      \u003ctd\u003e0\u003c/td\u003e\n      \u003ctd\u003e0\u003c/td\u003e\n      \u003ctd\u003e0.0\u003c/td\u003e\n    \u003c/tr\u003e\n  \u003c/tbody\u003e\n\u003c/table\u003e\n\u003cp\u003e5 rows × 39 columns\u003c/p\u003e\n\u003c/div\u003e",
                        "text/plain": "       bedrooms  bedrooms_square  bedrooms_sqrt  bathrooms  bathrooms_square  \\\n17384         2                4       1.414214       1.50            2.2500   \n722           4               16       2.000000       3.25           10.5625   \n2680          2                4       1.414214       0.75            0.5625   \n18754         2                4       1.414214       1.00            1.0000   \n14554         4               16       2.000000       2.50            6.2500   \n\n       bathrooms_sqrt  sqft_living  sqft_living_square  sqft_living_sqrt  \\\n17384        1.224745         1430             2044900         37.815341   \n722          1.802776         4670            21808900         68.337398   \n2680         0.866025         1440             2073600         37.947332   \n18754        1.000000         1130             1276900         33.615473   \n14554        1.581139         3180            10112400         56.391489   \n\n       sqft_lot  ...  sqft_above_sqrt  sqft_basement  sqft_basement_square  \\\n17384      1650  ...        37.815341              0                     0   \n722       51836  ...        68.337398              0                     0   \n2680       3700  ...        34.641016            240                 57600   \n18754      2640  ...        33.615473              0                     0   \n14554      9603  ...        56.391489              0                     0   \n\n       sqft_basement_sqrt  yr_built  yr_built_square  yr_built_sqrt  \\\n17384            0.000000      1999          3996001      44.710178   \n722              0.000000      1988          3952144      44.586994   \n2680            15.491933      1914          3663396      43.749286   \n18754            0.000000      1927          3713329      43.897608   \n14554            0.000000      2002          4008004      44.743715   \n\n       yr_renovated  yr_renovated_square  yr_renovated_sqrt  \n17384             0                    0                0.0  \n722               0                    0                0.0  \n2680              0                    0                0.0  \n18754             0                    0                0.0  \n14554             0                    0                0.0  \n\n[5 rows x 39 columns]"
                    },
                    "execution_count": 572,
                    "metadata": {},
                    "output_type": "execute_result"
                }
            ],
            "source": [
                "### edTest(test_feature_extraction) ###\n",
                "\n",
                "from math import sqrt\n",
                "\n",
                "# All of the features of interest\n",
                "selected_inputs = [\n",
                "    'bedrooms', \n",
                "    'bathrooms',\n",
                "    'sqft_living', \n",
                "    'sqft_lot', \n",
                "    'floors', \n",
                "    'waterfront', \n",
                "    'view', \n",
                "    'condition', \n",
                "    'grade',\n",
                "    'sqft_above',\n",
                "    'sqft_basement',\n",
                "    'yr_built', \n",
                "    'yr_renovated'\n",
                "]\n",
                "\n",
                "# Compute the square and sqrt of each feature\n",
                "all_features = []\n",
                "for data_input in selected_inputs:\n",
                "    square_feat = data_input + '_square'\n",
                "    sqrt_feat = data_input + '_sqrt'\n",
                "    \n",
                "    # TODO compute the square and square root as two new features\n",
                "    \n",
                "    # 1) find the position of data_input as data_input_pos\n",
                "    data_input_pos = sales.columns.get_loc(data_input)\n",
                "\n",
                "    # 2) insert square_feat and sqrt_feat at data_input_pos + 1 and data_input_pos + 2, respectively\n",
                "    square_feat_pos = data_input_pos + 1\n",
                "    sqrt_feat_pos = data_input_pos + 2\n",
                "    square_feat_values = []\n",
                "    sqrt_feat_values = []\n",
                "    \n",
                "    # 3) append the value of square_feat and sqrt_feat for each row\n",
                "    for index, row in sales.iterrows():\n",
                "         square_feat_values.append(row[data_input] * row[data_input])\n",
                "         sqrt_feat_values.append(sqrt(row[data_input]))\n",
                "\n",
                "    sales.insert(square_feat_pos, square_feat, square_feat_values)\n",
                "    sales.insert(sqrt_feat_pos, sqrt_feat, sqrt_feat_values)\n",
                "\n",
                "    all_features.extend([data_input, square_feat, sqrt_feat])\n",
                "\n",
                "\n",
                "# Split the data into features and price\n",
                "price = sales['price']\n",
                "sales = sales[all_features]\n",
                "\n",
                "sales.head()\n",
                ""
            ]
        },
        {
            "attachments": {},
            "cell_type": "markdown",
            "metadata": {},
            "source": [
                "## Q2 - Split Data\n",
                "Next, we need to split our data into our train, validation, and test data. To do this, we will use [train_test_split](https://scikit-learn.org/stable/modules/generated/sklearn.model_selection.train_test_split.html) function to split up the dataset. For this assignment we will use 70% of the data to train, 10% for validation, and 20% to test. \n",
                "\n",
                "We have written most of the splitting for you, but we need you to figure out what the sizes should be in this case based off the numbers above. \n",
                "\n",
                "Note that we use `random_state=6` to make sure the results are deterministic for our assignment. Don't modify any code in this section besides changing the `\u003cNUM\u003e`s to the correct values.\n",
                "\n",
                "*Hint: You should print out the length of the datasets to make sure you got it right!*\n",
                "\n",
                "*Note: For this problem, we will make the correctness autograder test public to help avoid downstream issues.*"
            ]
        },
        {
            "cell_type": "code",
            "execution_count": 573,
            "metadata": {},
            "outputs": [],
            "source": [
                "### edTest(test_data_splitting) ###\n",
                "\n",
                "# TODO Fill in the numbers to make datasets of the right size.\n",
                "from sklearn.model_selection import train_test_split\n",
                "\n",
                "train_and_validation_sales, test_sales, train_and_validation_price, test_price = \\\n",
                "    train_test_split(sales, price, test_size=0.2, random_state=6)\n",
                "train_sales, validation_sales, train_price, validation_price = \\\n",
                "    train_test_split(train_and_validation_sales, train_and_validation_price, test_size=0.125, random_state=6)\n",
                ""
            ]
        },
        {
            "attachments": {},
            "cell_type": "markdown",
            "metadata": {},
            "source": [
                "## Q3 - Standardization"
            ]
        },
        {
            "attachments": {},
            "cell_type": "markdown",
            "metadata": {},
            "source": [
                "We first need to do a little bit more pre-processing to prepare the data for model training. Models like Ridge and LASSO assume the input features are standardized (mean 0, std. dev. 1) and the target values are centered (mean 0). If we do not do this, we might get some unpredictable results since we violate the assumption of the models!\n",
                "\n",
                "So in the next cell, you should standardize the data in train, validation, and test using the following instructions:\n",
                "* Use the [StandardScaler](https://scikit-learn.org/stable/modules/preprocessing.html#standardization-or-mean-removal-and-variance-scaling) preprocessor provided by scikit-learn to do the standardization for you. Note that you first `fit` it to the data so it can compute the mean/standard deviation and then `transform` to actually change the data. You'll find the examples on this documentation very helpful.\n",
                "* You should only do this transformation on the features we are using of the data (not any of the other data inputs or the target values). \n",
                "* This next note will sound weird, but it's an important step. **You should only do the standardization calculation (e.g., the mean and the standard deviation) on the *training* set and use those statistics to scale the validation and test set**. In other words, the validation and test set should be standardized using the statistics from the training data so that you are using a consistent transformation throughout. This is important to do since you need to apply the same transformation process to every step of the data and you shouldn't use statistics from data outside of your training set in your transformations.\n",
                "\n",
                "\n",
                "**Store the transformed results in `train_sales`, `validation_sales`, `test_sales` respectively (thus overwriting your old, unscaled feature).**\n",
                "\n",
                "*Note: For this problem, we will make the correctness autograder test public to help avoid downstream issues.*"
            ]
        },
        {
            "cell_type": "code",
            "execution_count": 574,
            "metadata": {},
            "outputs": [],
            "source": [
                "### edTest(test_standardization) ###\n",
                "\n",
                "# TODO preprocess the training, validation, and test data\n",
                "\n",
                "from sklearn import preprocessing\n",
                "\n",
                "scaler = preprocessing.StandardScaler().fit(train_sales)\n",
                "scaler.mean_\n",
                "scaler.scale_\n",
                "train_sales = scaler.transform(train_sales)\n",
                "validation_sales = scaler.transform(validation_sales)\n",
                "test_sales = scaler.transform(test_sales)\n",
                ""
            ]
        },
        {
            "attachments": {},
            "cell_type": "markdown",
            "metadata": {},
            "source": [
                "# Linear Regression \n",
                "## Q4) Linear Regression Baseline\n",
                "\n",
                "As a baseline, we will first, train a regular `LinearRegression` model on the data using the features in `all_features` and report its **test RMSE**. Write the code in the cell below to calculate the answer. Save your result in a variable named `test_rmse`.\n",
                ""
            ]
        },
        {
            "cell_type": "code",
            "execution_count": 575,
            "metadata": {},
            "outputs": [
                {
                    "name": "stdout",
                    "output_type": "stream",
                    "text": "384955.79936823476\n"
                }
            ],
            "source": [
                "### edTest(test_train_linear_regression) ###\n",
                "\n",
                "# TODO Train a linear regression model (you'll likely need to import some things)\n",
                "\n",
                "import numpy as np\n",
                "from sklearn import metrics\n",
                "from sklearn.linear_model import LinearRegression\n",
                "\n",
                "regressor = LinearRegression()\n",
                "model=regressor.fit(train_sales, train_price)\n",
                "\n",
                "test_pred = model.predict(test_sales)\n",
                "test_rmse = np.sqrt(metrics.mean_squared_error(test_price, test_pred))\n",
                "print(test_rmse)\n",
                "\n",
                ""
            ]
        },
        {
            "attachments": {},
            "cell_type": "markdown",
            "metadata": {},
            "source": [
                "--- \n",
                "# Ridge Regression\n",
                "At this point, you might be looking forward at the homework and seeing how long it is! We want to provide a lot of instruction so you aren't left completely in the dark on what to do, but we are also trying to avoid just giving you a bunch of starter code and just having you fill in the blanks. This section is very long because it tries to give really detailed instructions on what to compute. The next section on LASSO has almost exactly the same steps so it will be a lot easier doing that part of the assignment!\n",
                "\n",
                "In this section, we will do some **hyper-parameter tuning** to find the optimal setting of the regularization constant $\\lambda$ for Ridge Regression. Remember that $\\lambda$ is the coefficient that controls how much the model is penalized for having large weights in the optimization function.\n",
                "\n",
                "$$\\hat{w}_{ridge} = \\min_w RSS(w) + \\lambda \\left\\lVert w \\right\\rVert_2^2$$\n",
                "\n",
                "where $\\left\\lVert w \\right\\rVert_2^2 = \\sum_{j=0}^D w_j^2$ is the $l_2$-norm of the parameters. By default, `sklearn`'s `Ridge` class does not regularize the intercept.\n",
                "\n",
                "## Q5) Train Ridge Models\n",
                "For this part of the assignment, you will be writing code to find the optimal setting of the penalty $\\lambda$. Below, we describe what steps you will want to have in your code to compute these values:\n",
                "\n",
                "*Implementation Details*\n",
                "* Use the following choices of $l_2$ penalty: $[10^{-5}, 10^{-4}, ..., 10^4, 10^5]$. In Python, you can create a list of these numbers using `np.logspace(-5, 5, 11, base=10)`. \n",
                "* Use the [Ridge](https://scikit-learn.org/stable/modules/generated/sklearn.linear_model.Ridge.html#sklearn.linear_model.Ridge) class from sklearn to train a Ridge Regression model on the **training** data. The **only** parameters you need to pass when constructing the Ridge model are `alpha`, which lets you specify what you want the $l_2$ penalty to be, and `random_state=0` to avoid randomness.\n",
                "* Evaluate both the training error and the validation error for the model by reporting the RMSE of each dataset.\n",
                "* **Put all of your results in a pandas `DataFrame` named `ridge_data`** so you can analyze them later. The `ridge_data` should have a row for each $l_2$ penalty you tried and should have the following columns:\n",
                "  * `l_2_penalty`: The $l_2$ penalty for that row\n",
                "  * `model`: The actual `Ridge` model object that was trained with that $l_2$ penalty\n",
                "  * `train_rmse`: The training RMSE for that model\n",
                "  * `validation_rmse`: The validation RMSE for that model\n",
                "* To build up this `DataFrame`, we recommend first building up a list of dictionary objects and then converting that to a `DataFrame`. For example, the following code would produce the following `pandas.DataFrame`.\n",
                "```python\n",
                "data = []\n",
                "for i in range(3):\n",
                "    data.append({\n",
                "        'col_a': i,\n",
                "        'col_b': 2 * i\n",
                "    }\n",
                "data_frame = pd.DataFrame(data)\n",
                "```\n",
                "\n",
                "| col_a | col_b | \n",
                "|-------|-------|\n",
                "|   0   |   0   | \n",
                "|   1   |   2   | \n",
                "|   2   |   4   |\n",
                "\n",
                "*Hints: Here is a development strategy that you might find helpful*\n",
                "* You will need a loop to loop over the possible $l_2$ penalties. Try writing the code without a loop first with just one setting of $\\lambda$. Try writing a lot of the code without a loop first if you're stuck to help you figure out how the pieces go together. You can safely ignore building up the result `DataFrame` at first, just print all the information out to start! \n",
                "* If you are running into troubles writing your loop, try to print values out to investigate what's going wrong.\n",
                "* Remember to use RMSE for calculating the error!\n",
                ""
            ]
        },
        {
            "cell_type": "code",
            "execution_count": 576,
            "metadata": {},
            "outputs": [],
            "source": [
                "### edTest(test_ridge) ###\n",
                "\n",
                "# TODO Implement code to evaluate Ridge Regression with various l2 Penalties\n",
                "\n",
                "\n",
                "import numpy as np\n",
                "from sklearn.linear_model import Ridge\n",
                "from sklearn import metrics\n",
                "\n",
                "data = []\n",
                "\n",
                "l2_penalties = np.logspace(-5, 5, 11, base=10)\n",
                "for l2_penalty in l2_penalties:\n",
                "  train_model = Ridge(l2_penalty, random_state=0)\n",
                "  train_model.fit(train_sales, train_price)\n",
                "  train_pred = train_model.predict(train_sales)\n",
                "  train_rmse = np.sqrt(metrics.mean_squared_error(train_price, train_pred))\n",
                "\n",
                "  validation_pred = train_model.predict(validation_sales)\n",
                "  validation_rmse = np.sqrt(metrics.mean_squared_error(validation_price, validation_pred))\n",
                "  data.append({\n",
                "      'l2_penalty': l2_penalty,\n",
                "      'model': train_model,\n",
                "      'train_rmse': train_rmse,\n",
                "      'validation_rmse': validation_rmse,\n",
                "  })\n",
                "\n",
                "ridge_data = pd.DataFrame(data)"
            ]
        },
        {
            "attachments": {},
            "cell_type": "markdown",
            "metadata": {},
            "source": [
                "Next, let's investigate how the penalty affected the train and validation error by running the following plotting code. "
            ]
        },
        {
            "cell_type": "code",
            "execution_count": 577,
            "metadata": {},
            "outputs": [
                {
                    "data": {
                        "text/plain": "\u003cmatplotlib.legend.Legend at 0x7f567d048b20\u003e"
                    },
                    "execution_count": 577,
                    "metadata": {},
                    "output_type": "execute_result"
                },
                {
                    "data": {
                        "image/png": "[encoded data removed]",
                        "text/plain": "\u003cFigure size 432x288 with 1 Axes\u003e"
                    },
                    "metadata": {
                        "needs_background": "light"
                    },
                    "output_type": "display_data"
                }
            ],
            "source": [
                "# Plot the validation RMSE as a blue line with dots\n",
                "plt.plot(ridge_data['l2_penalty'], ridge_data['validation_rmse'], \n",
                "         'b-^', label='Validation')\n",
                "# Plot the train RMSE as a red line dots\n",
                "plt.plot(ridge_data['l2_penalty'], ridge_data['train_rmse'], \n",
                "         'r-o', label='Train')\n",
                "\n",
                "# Make the x-axis log scale for readability\n",
                "plt.xscale('log')\n",
                "\n",
                "# Label the axes and make a legend\n",
                "plt.xlabel('l2_penalty')\n",
                "plt.ylabel('RMSE')\n",
                "plt.legend()"
            ]
        },
        {
            "attachments": {},
            "cell_type": "markdown",
            "metadata": {},
            "source": [
                "Next, we want to actually look at which model we think will perform best. First we define a helper function that will be used to inspect the model parameters."
            ]
        },
        {
            "cell_type": "code",
            "execution_count": 578,
            "metadata": {},
            "outputs": [],
            "source": [
                "def print_coefficients(model, features):\n",
                "    \"\"\"\n",
                "    This function takes in a model column and a features column. \n",
                "    And prints the coefficient along with its feature name.\n",
                "    \"\"\"\n",
                "    feats = list(zip(features, model.coef_))\n",
                "    print(*feats, sep = \"\\n\")"
            ]
        },
        {
            "attachments": {},
            "cell_type": "markdown",
            "metadata": {},
            "source": [
                "## Q6 - Inspecting Coefficients\n",
                "In the cell below, write code that uses the `ridge_data` `DataFrame` to select which L2 penalty we would choose based on the evaluations we did in the previous section. You should print out the following values to help you answer the next questions! \n",
                "* **Q6.1** -  The best L2 penalty based on the model evaluations. Save this L2 penalty in a variable called `best_l2`.\n",
                "* **Q6.2** - Take the best model and evaluate its error on the **test** dataset. Report the number as an RMSE stored in a variable called `test_rmse`.\n",
                "* **Q6.3** - Call the `print_coefficients` function passing in the model itself and the features used so you can look at all of its coefficient values. You should save the number of coefficients that are 0 in a variable called `num_zero_coeffs_ridge`.\n",
                "\n",
                "Use the next cell answer all three questions. You should also print out the values so you can inspect them.\n",
                "\n",
                "To do this in `pandas`, you'll need to use the `idxmin()` function to find the index of the smallest value in a column and the `loc` property to access that index. As an example, suppose we had a `DataFrame` named `df`:\n",
                "\n",
                "| a | b | c |\n",
                "|---|---|---|\n",
                "| 1 | 2 | 3 |\n",
                "| 2 | 1 | 3 |\n",
                "| 3 | 2 | 1 |\n",
                "\n",
                "If we wrote the code \n",
                "```python\n",
                "index = df['b'].idxmin()\n",
                "row = df.loc[index]\n",
                "```\n",
                "\n",
                "It would first find the index of the smallest value in the `b` column and then uses the `.loc` property of the `DataFrame` to access that particular row. It will return a `Series` object (basically a Python dictionary) which means you can use syntax like `row['a']` to access a particular column of that row."
            ]
        },
        {
            "cell_type": "code",
            "execution_count": 579,
            "metadata": {},
            "outputs": [
                {
                    "name": "stdout",
                    "output_type": "stream",
                    "text": "10.0\n('bedrooms', -12814.960695689748)\n('bedrooms_square', -5578.585627553785)\n('bedrooms_sqrt', -19987.8786410888)\n('bathrooms', -261.23310460021145)\n('bathrooms_square', 139717.209305505)\n('bathrooms_sqrt', -50659.473271559225)\n('sqft_living', 23125.50416726826)\n('sqft_living_square', 19304.655191208156)\n('sqft_living_sqrt', 14413.31922599666)\n('sqft_lot', 18909.07641753272)\n('sqft_lot_square', 21375.201111502658)\n('sqft_lot_sqrt', -25079.69522676888)\n('floors', -15962.664049881474)\n('floors_square', 13961.951626360802)\n('floors_sqrt', -27220.383772045756)\n('waterfront', 43800.1474977605)\n('waterfront_square', 43800.14749776002)\n('waterfront_sqrt', 43800.14749776)\n('view', -7513.023932352447)\n('view_square', 11529.923304894057)\n('view_sqrt', -12278.672850845987)\n('condition', 4224.607744785505)\n('condition_square', 4624.595688989824)\n('condition_sqrt', 4026.455444625229)\n('grade', 44871.77670857438)\n('grade_square', 73624.90237512378)\n('grade_sqrt', 31314.956423923006)\n('sqft_above', 22432.11950301648)\n('sqft_above_square', 40851.914370095044)\n('sqft_above_sqrt', 1391.5234697643957)\n('sqft_basement', 1331.3789329040642)\n('sqft_basement_square', -35037.04738328028)\n('sqft_basement_sqrt', 25425.77455079106)\n('yr_built', -26030.276413735894)\n('yr_built_square', -25617.786846762032)\n('yr_built_sqrt', -26232.13443988889)\n('yr_renovated', 4718.0901115038205)\n('yr_renovated_square', 5102.8069253730455)\n('yr_renovated_sqrt', 4514.904467763938)\n0\n"
                }
            ],
            "source": [
                "### edTest(test_ridge_analysis) ###\n",
                "\n",
                "# TODO Print information about best l2 model\n",
                "\n",
                "idxmin = ridge_data['validation_rmse'].idxmin()\n",
                "row = ridge_data.loc[idxmin]\n",
                "\n",
                "best_l2 = row['l2_penalty']\n",
                "print(best_l2)\n",
                "\n",
                "train_model = Ridge(best_l2, random_state=0)\n",
                "train_model.fit(train_sales, train_price)\n",
                "train_pred = train_model.predict(test_sales)\n",
                "test_rmse = np.sqrt(metrics.mean_squared_error(test_price, train_pred))\n",
                "\n",
                "print_coefficients(train_model, all_features)\n",
                "\n",
                "num_zero_coeffs_ridge = 0\n",
                "for coe in list(zip(all_features, train_model.coef_)):\n",
                "    if coe[1] == 0:\n",
                "        num_zero_coeffs_ridge = num_zero_coeffs_ridge + 1\n",
                "\n",
                "print(num_zero_coeffs_ridge)"
            ]
        },
        {
            "attachments": {},
            "cell_type": "markdown",
            "metadata": {},
            "source": [
                "--- \n",
                "# LASSO Regression\n",
                "In this section you will do basically the exact same analysis you did with Ridge Regression, but using LASSO Regression instead. It's okay if your code for this section looks very similar to your code for the last section. \n",
                "\n",
                "Remember that for LASSO we choose the parameters that minimize this quality metric instead \n",
                "\n",
                "$$\\hat{w}_{LASSO} = \\min_w RSS(w) + \\lambda \\left\\lVert w \\right\\rVert_1$$\n",
                "\n",
                "where $\\left\\lVert w \\right\\rVert_1 = \\sum_{j=0}^D \\lVert w_j \\rVert$ is the L1 norm of the parameter vector.\n",
                "\n",
                "## Q7) Train LASSO Models\n",
                "We will use the same set of instructions for LASSO as we did for Ridge, except for the following differences. Please refer back to the Ridge Regression instructions and your code to see how these differences fit in!\n",
                "\n",
                "* Use the [Lasso](https://scikit-learn.org/stable/modules/generated/sklearn.linear_model.Lasso.html#sklearn.linear_model.Lasso) model. Like before, the only parameters you need to pass in are `alpha` for the L1 penalty and `random_state=0`.\n",
                "* The range L1 penalties should be $[10, 10^2, ..., 10^7]$. In Python, this is `np.logspace(1, 7, 7, base=10)`.\n",
                "* The result should be stored in a `DataFrame` named `lasso_data`. All the columns should have the same name and corresponding values except the penalty column should be called `l1_penalty`.\n",
                "* It is okay if your code prints some `ConvergenceWarning` warnings, these should not impact your results!.\n",
                "\n",
                "You do not need to worry about your code being redundant with the last section for this part."
            ]
        },
        {
            "cell_type": "code",
            "execution_count": 580,
            "metadata": {},
            "outputs": [
                {
                    "name": "stderr",
                    "output_type": "stream",
                    "text": "/usr/lib/python3.9/site-packages/sklearn/linear_model/_coordinate_descent.py:530: ConvergenceWarning: Objective did not converge. You might want to increase the number of iterations. Duality gap: 1652622332201.1057, tolerance: 1912867203.4052832\n  model = cd_fast.enet_coordinate_descent(\n/usr/lib/python3.9/site-packages/sklearn/linear_model/_coordinate_descent.py:530: ConvergenceWarning: Objective did not converge. You might want to increase the number of iterations. Duality gap: 1000006149477.807, tolerance: 1912867203.4052832\n  model = cd_fast.enet_coordinate_descent(\n/usr/lib/python3.9/site-packages/sklearn/linear_model/_coordinate_descent.py:530: ConvergenceWarning: Objective did not converge. You might want to increase the number of iterations. Duality gap: 2342567368.338867, tolerance: 1912867203.4052832\n  model = cd_fast.enet_coordinate_descent(\n"
                }
            ],
            "source": [
                "### edTest(test_lasso) ###\n",
                "\n",
                "# TODO Implement code to evaluate LASSO Regression with various L1 penalties\n",
                "\n",
                "import numpy as np\n",
                "\n",
                "from sklearn import metrics\n",
                "from sklearn import linear_model\n",
                "\n",
                "\n",
                "data_lasso = []\n",
                "\n",
                "l1_penalties = np.logspace(1, 7, 7, base=10)\n",
                "for l1_penalty in l1_penalties:\n",
                "  train_model = linear_model.Lasso(l1_penalty, random_state=0)\n",
                "  train_model.fit(train_sales, train_price)\n",
                "  train_pred = train_model.predict(train_sales)\n",
                "  train_rmse = np.sqrt(metrics.mean_squared_error(train_price, train_pred))\n",
                "\n",
                "  validation_pred = train_model.predict(validation_sales)\n",
                "  validation_rmse = np.sqrt(metrics.mean_squared_error(validation_price, validation_pred))\n",
                "  data_lasso.append({\n",
                "      'l1_penalty': l1_penalty,\n",
                "      'model': train_model,\n",
                "      'train_rmse': train_rmse,\n",
                "      'validation_rmse': validation_rmse,\n",
                "  })\n",
                "\n",
                "lasso_data = pd.DataFrame(data_lasso)"
            ]
        },
        {
            "attachments": {},
            "cell_type": "markdown",
            "metadata": {},
            "source": [
                "Like before, let's look at how the L1 penalty affects the performance."
            ]
        },
        {
            "cell_type": "code",
            "execution_count": 581,
            "metadata": {},
            "outputs": [
                {
                    "data": {
                        "text/plain": "\u003cmatplotlib.legend.Legend at 0x7f567d0dce50\u003e"
                    },
                    "execution_count": 581,
                    "metadata": {},
                    "output_type": "execute_result"
                },
                {
                    "data": {
                        "image/png": "[encoded data removed]",
                        "text/plain": "\u003cFigure size 432x288 with 1 Axes\u003e"
                    },
                    "metadata": {
                        "needs_background": "light"
                    },
                    "output_type": "display_data"
                }
            ],
            "source": [
                "# Plot the validation RMSE as a blue line with dots\n",
                "\n",
                "plt.plot(lasso_data['l1_penalty'], lasso_data['validation_rmse'],\n",
                "         'b-^', label='Validation')\n",
                "\n",
                "# Plot the train RMSE as a red line dots\n",
                "plt.plot(lasso_data['l1_penalty'], lasso_data['train_rmse'],\n",
                "         'r-o', label='Train')\n",
                "\n",
                "# Make the x-axis log scale for readability\n",
                "plt.xscale('log')\n",
                "\n",
                "# Label the axes and make a legend\n",
                "plt.xlabel('l1_penalty')\n",
                "plt.ylabel('RMSE')\n",
                "plt.legend()"
            ]
        },
        {
            "attachments": {},
            "cell_type": "markdown",
            "metadata": {},
            "source": [
                "## Q8 - Inspecting Coefficients\n",
                "Like before, in the cell below, write code that uses the `lasso_data` `DataFrame` to select which L1 penalty we would choose based on the evaluations we did in the previous section. You should print out the following values to help you answer the next questions! \n",
                "\n",
                "* **Q8.1** -  TThe best L1 penalty based on the model evaluations. Save this L1 penalty in a variable called `best_l1`.\n",
                "* **Q8.2** - Take the best model and evaluate it on the **test** dataset and report its RMSE. Report the number as an RMSE stored in a variable called `test_rmse`.\n",
                "* **Q8.3** - Call the `print_coefficients` function passing in the model itself and the features used so you can look at all of its coefficient values. Note some of the values are `-0.0` which is the same as `0.0` for our purposes. You should save the number of coefficients that are 0 in a variable called `num_zero_coeffs_lasso`."
            ]
        },
        {
            "cell_type": "code",
            "execution_count": 582,
            "metadata": {},
            "outputs": [
                {
                    "name": "stdout",
                    "output_type": "stream",
                    "text": "10000.0\n('bedrooms', -0.0)\n('bedrooms_square', -0.0)\n('bedrooms_sqrt', -19088.360329057417)\n('bathrooms', -0.0)\n('bathrooms_square', 108823.89843473899)\n('bathrooms_sqrt', -0.0)\n('sqft_living', 0.0)\n('sqft_living_square', 0.0)\n('sqft_living_sqrt', 0.0)\n('sqft_lot', 0.0)\n('sqft_lot_square', 7986.231414584617)\n('sqft_lot_sqrt', 0.0)\n('floors', -0.0)\n('floors_square', -0.0)\n('floors_sqrt', -12569.995812596148)\n('waterfront', 124085.6795051451)\n('waterfront_square', 0.0)\n('waterfront_sqrt', 0.0)\n('view', 0.0)\n('view_square', 0.0)\n('view_sqrt', -0.0)\n('condition', 0.0)\n('condition_square', 0.0)\n('condition_sqrt', 0.0)\n('grade', 0.0)\n('grade_square', 147501.36528659266)\n('grade_sqrt', 0.0)\n('sqft_above', 0.0)\n('sqft_above_square', 71224.80787057188)\n('sqft_above_sqrt', 0.0)\n('sqft_basement', 0.0)\n('sqft_basement_square', -0.0)\n('sqft_basement_sqrt', 0.0)\n('yr_built', -63287.38282123036)\n('yr_built_square', -0.0)\n('yr_built_sqrt', -17250.36953619304)\n('yr_renovated', 0.0)\n('yr_renovated_square', 391.8053626650632)\n('yr_renovated_sqrt', 0.0)\n29\n"
                }
            ],
            "source": [
                "### edTest(test_lasso_analysis) ###\n",
                "\n",
                "# TODO Print information about best l1 model\n",
                "\n",
                "from sklearn import linear_model\n",
                "\n",
                "idxmin = lasso_data['validation_rmse'].idxmin()\n",
                "row = lasso_data.loc[idxmin]\n",
                "\n",
                "best_l1 = row['l1_penalty']\n",
                "\n",
                "print(best_l1)\n",
                "\n",
                "train_model = linear_model.Lasso(best_l1, random_state=0)\n",
                "train_model.fit(train_sales, train_price)\n",
                "train_pred = model.predict(test_sales)\n",
                "test_rmse = np.sqrt(metrics.mean_squared_error(test_price, train_pred))\n",
                "\n",
                "print_coefficients(train_model, all_features)\n",
                "\n",
                "num_zero_coeffs_lasso = 0\n",
                "for coe in list(zip(all_features, train_model.coef_)):\n",
                "    if coe[1] == 0:\n",
                "        num_zero_coeffs_lasso = num_zero_coeffs_lasso + 1\n",
                "\n",
                "print(num_zero_coeffs_lasso)"
            ]
        },
        {
            "attachments": {},
            "cell_type": "markdown",
            "metadata": {},
            "source": [
                "Let's look at which coefficients ended up having a 0 coefficient. In the cell below, we print the name of all features with coefficient 0. Note, we actually have to check if it is near 0 since numeric computations in Python sometimes yield slight rounding errors (e.g., how 1/3 is .333333333333 and that can't be represented precisely in a computer)"
            ]
        },
        {
            "cell_type": "code",
            "execution_count": 583,
            "metadata": {},
            "outputs": [
                {
                    "name": "stdout",
                    "output_type": "stream",
                    "text": "bedrooms\nbedrooms_square\nbathrooms\nbathrooms_sqrt\nsqft_living\nsqft_living_square\nsqft_living_sqrt\nsqft_lot\nsqft_lot_sqrt\nfloors\nfloors_square\nwaterfront_square\nwaterfront_sqrt\nview\nview_square\nview_sqrt\ncondition\ncondition_square\ncondition_sqrt\ngrade\ngrade_sqrt\nsqft_above\nsqft_above_sqrt\nsqft_basement\nsqft_basement_square\nsqft_basement_sqrt\nyr_built_square\nyr_renovated\nyr_renovated_sqrt\n"
                }
            ],
            "source": [
                "for feature, coef in zip(all_features, row['model'].coef_):\n",
                "  if abs(coef) \u003c= 10 ** -17:\n",
                "    print(feature)"
            ]
        },
        {
            "attachments": {},
            "cell_type": "markdown",
            "metadata": {},
            "source": [
                "### Q9) Based on our experiments in this assignment, which of these models (LinearRegression, Ridge, Lasso) would we expect to have the lowest error on future error. \n",
                "\n",
                "Choose the best option that applies. Save your answer in a variable called `q9` with a value that's a string with the one of the following choices:\n",
                "\n",
                "* `'LinearRegression'`\n",
                "* `'Ridge'`\n",
                "* `'Lasso'`\n",
                "* `\"Can't tell\"`\n",
                "\n",
                "For example, you might write\n",
                "\n",
                "```\n",
                "q9 = 'Answer'\n",
                "```\n",
                ""
            ]
        },
        {
            "cell_type": "code",
            "execution_count": 584,
            "metadata": {},
            "outputs": [],
            "source": [
                "### edTest(test_q9) ###\n",
                "\n",
                "# TODO Select the model\n",
                "\n",
                "q9 = 'Lasso'"
            ]
        },
        {
            "cell_type": "code",
            "execution_count": 585,
            "metadata": {},
            "outputs": [],
            "source": [
                ""
            ]
        }
    ]
}
